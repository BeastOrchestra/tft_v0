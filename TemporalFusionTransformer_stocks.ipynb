{
 "cells": [
  {
   "cell_type": "markdown",
   "metadata": {},
   "source": [
    "Make predictions"
   ]
  },
  {
   "cell_type": "code",
   "execution_count": 3,
   "metadata": {},
   "outputs": [],
   "source": [
    "# # Perform prediction using CPU\n",
    "# raw_predictions = tft.predict(\n",
    "#     val_dataloader,\n",
    "#     mode=\"raw\",\n",
    "#     return_x=True,  # Include input data for inspection\n",
    "#     trainer_kwargs={\"accelerator\": \"cpu\", \"devices\": 1}\n",
    "# )\n",
    "\n",
    "# # Unpack the Prediction object\n",
    "# output = raw_predictions[0]  # Network output\n",
    "# metadata = raw_predictions[1]  # Metadata dictionary\n",
    "\n",
    "# # Inspect the key elements\n",
    "# print(\"Network Output:\", output)\n",
    "# print(\"Metadata:\", metadata)\n"
   ]
  },
  {
   "cell_type": "markdown",
   "metadata": {},
   "source": [
    "Plot Predictions"
   ]
  },
  {
   "cell_type": "code",
   "execution_count": 7,
   "metadata": {},
   "outputs": [
    {
     "ename": "NameError",
     "evalue": "name 'output' is not defined",
     "output_type": "error",
     "traceback": [
      "\u001b[0;31m---------------------------------------------------------------------------\u001b[0m",
      "\u001b[0;31mNameError\u001b[0m                                 Traceback (most recent call last)",
      "Cell \u001b[0;32mIn[7], line 4\u001b[0m\n\u001b[1;32m      1\u001b[0m \u001b[38;5;28;01mimport\u001b[39;00m \u001b[38;5;21;01mmatplotlib\u001b[39;00m\u001b[38;5;21;01m.\u001b[39;00m\u001b[38;5;21;01mpyplot\u001b[39;00m \u001b[38;5;28;01mas\u001b[39;00m \u001b[38;5;21;01mplt\u001b[39;00m\n\u001b[1;32m      3\u001b[0m \u001b[38;5;66;03m# Extract the first sample's predictions\u001b[39;00m\n\u001b[0;32m----> 4\u001b[0m first_sample_predictions \u001b[38;5;241m=\u001b[39m \u001b[43moutput\u001b[49m\u001b[38;5;241m.\u001b[39mprediction[\u001b[38;5;241m0\u001b[39m]  \u001b[38;5;66;03m# Shape: (10, 1)\u001b[39;00m\n\u001b[1;32m      6\u001b[0m \u001b[38;5;66;03m# Convert predictions to a 1D array for plotting\u001b[39;00m\n\u001b[1;32m      7\u001b[0m predictions \u001b[38;5;241m=\u001b[39m first_sample_predictions\u001b[38;5;241m.\u001b[39msqueeze()\u001b[38;5;241m.\u001b[39mnumpy()  \u001b[38;5;66;03m# Shape: (10,)\u001b[39;00m\n",
      "\u001b[0;31mNameError\u001b[0m: name 'output' is not defined"
     ]
    }
   ],
   "source": [
    "import matplotlib.pyplot as plt\n",
    "\n",
    "# Extract the first sample's predictions\n",
    "first_sample_predictions = output.prediction[0]  # Shape: (10, 1)\n",
    "\n",
    "# Convert predictions to a 1D array for plotting\n",
    "predictions = first_sample_predictions.squeeze().numpy()  # Shape: (10,)\n",
    "\n",
    "# Plot the predictions\n",
    "plt.figure(figsize=(8, 5))\n",
    "plt.plot(range(1, len(predictions) + 1), predictions, marker='o', linestyle='-', label='Predicted Values')\n",
    "plt.title('First Sample Predictions Over Forecast Horizon', fontsize=14)\n",
    "plt.xlabel('Forecast Horizon (Time Steps)', fontsize=12)\n",
    "plt.ylabel('Predicted Value', fontsize=12)\n",
    "plt.grid(True, linestyle='--', alpha=0.7)\n",
    "plt.legend(fontsize=10)\n",
    "plt.show()\n"
   ]
  },
  {
   "cell_type": "markdown",
   "metadata": {},
   "source": [
    "train network\n"
   ]
  },
  {
   "cell_type": "code",
   "execution_count": 8,
   "metadata": {},
   "outputs": [
    {
     "name": "stdout",
     "output_type": "stream",
     "text": [
      "Package                    Version      Editable project location\n",
      "-------------------------- ------------ ---------------------------------------------------------------\n",
      "absl-py                    2.0.0\n",
      "aiohttp                    3.9.1\n",
      "aiosignal                  1.3.1\n",
      "antlr4-python3-runtime     4.9.3\n",
      "appdirs                    1.4.4\n",
      "appnope                    0.1.3\n",
      "arch                       5.3.1\n",
      "asttokens                  2.4.1\n",
      "async-timeout              4.0.3\n",
      "attrs                      23.2.0\n",
      "axial-positional-embedding 0.2.1\n",
      "backcall                   0.2.0\n",
      "backports.zoneinfo         0.2.1\n",
      "beautifulsoup4             4.12.3\n",
      "Brotli                     1.0.9\n",
      "cachetools                 5.3.2\n",
      "certifi                    2023.11.17\n",
      "cftime                     1.6.3\n",
      "chardet                    5.2.0\n",
      "charset-normalizer         3.3.2\n",
      "click                      8.1.7\n",
      "cmdstanpy                  0.9.68\n",
      "comm                       0.2.1\n",
      "contourpy                  1.1.1\n",
      "convertdate                2.4.0\n",
      "cramjam                    2.8.4\n",
      "cycler                     0.12.1\n",
      "Cython                     3.0.8\n",
      "debugpy                    1.6.7\n",
      "decorator                  5.1.1\n",
      "docker-pycreds             0.4.0\n",
      "einops                     0.7.0\n",
      "entrypoints                0.4\n",
      "eventkit                   1.0.3\n",
      "executing                  2.0.1\n",
      "fastparquet                2024.2.0\n",
      "filelock                   3.13.1\n",
      "fonttools                  4.47.2\n",
      "frozendict                 2.4.6\n",
      "frozenlist                 1.4.1\n",
      "fsspec                     2023.12.2\n",
      "gdown                      5.1.0\n",
      "gitdb                      4.0.11\n",
      "GitPython                  3.1.41\n",
      "google-auth                2.26.2\n",
      "google-auth-oauthlib       1.0.0\n",
      "grpcio                     1.60.0\n",
      "html5lib                   1.1\n",
      "ib-insync                  0.9.86\n",
      "idna                       3.6\n",
      "importlib-metadata         7.0.1\n",
      "importlib-resources        6.1.1\n",
      "ipykernel                  6.28.0\n",
      "ipython                    8.12.0\n",
      "jedi                       0.19.1\n",
      "Jinja2                     3.1.3\n",
      "joblib                     1.3.2\n",
      "jupyter-client             7.3.4\n",
      "jupyter_core               5.5.0\n",
      "kiwisolver                 1.4.5\n",
      "lightning                  2.3.3\n",
      "lightning-utilities        0.10.0\n",
      "local-attention            1.9.0\n",
      "lxml                       5.3.0\n",
      "Markdown                   3.5.2\n",
      "MarkupSafe                 2.1.3\n",
      "matplotlib                 3.7.4\n",
      "matplotlib-inline          0.1.6\n",
      "mplchart                   0.0.5\n",
      "mpld3                      0.5.10\n",
      "mplfinance                 0.12.10b0\n",
      "mpmath                     1.3.0\n",
      "multidict                  6.0.4\n",
      "multitasking               0.0.11\n",
      "nest-asyncio               1.5.8\n",
      "netCDF4                    1.6.5\n",
      "networkx                   2.8.8\n",
      "numpy                      1.24.3\n",
      "nystrom-attention          0.0.11\n",
      "oauthlib                   3.2.2\n",
      "omegaconf                  2.3.0\n",
      "opencv-python              4.9.0.80\n",
      "opt-einsum                 3.3.0\n",
      "packaging                  23.2\n",
      "pandas                     2.0.3\n",
      "parso                      0.8.3\n",
      "patsy                      0.5.6\n",
      "peewee                     3.17.8\n",
      "performer-pytorch          1.1.4\n",
      "pexpect                    4.8.0\n",
      "pickleshare                0.7.5\n",
      "Pillow                     9.4.0\n",
      "pip                        23.3.1\n",
      "platformdirs               4.1.0\n",
      "prompt-toolkit             3.0.42\n",
      "property-cached            1.6.4\n",
      "protobuf                   4.25.2\n",
      "psutil                     5.9.0\n",
      "ptyprocess                 0.7.0\n",
      "pure-eval                  0.2.2\n",
      "pyarrow                    17.0.0\n",
      "pyasn1                     0.5.1\n",
      "pyasn1-modules             0.3.0\n",
      "pyDeprecate                0.3.2\n",
      "Pygments                   2.17.2\n",
      "PyMeeus                    0.5.12\n",
      "pyparsing                  3.1.1\n",
      "PySocks                    1.7.1\n",
      "pystan                     2.19.1.1\n",
      "python-dateutil            2.8.2\n",
      "pytorch-forecasting        1.1.1\n",
      "pytorch-lightning          2.1.3\n",
      "pytz                       2023.3.post1\n",
      "PyYAML                     5.4.1\n",
      "pyzmq                      25.1.0\n",
      "requests                   2.31.0\n",
      "requests-oauthlib          1.3.1\n",
      "rsa                        4.9\n",
      "scikit-learn               1.3.2\n",
      "scipy                      1.10.1\n",
      "seaborn                    0.13.1\n",
      "sentry-sdk                 1.39.2\n",
      "setproctitle               1.3.3\n",
      "setuptools                 68.2.2\n",
      "six                        1.16.0\n",
      "smmap                      5.0.1\n",
      "soupsieve                  2.5\n",
      "spacetimeformer            1.5.0        /Users/alecjeffery/Documents/Playgrounds/Python/spacetimeformer\n",
      "stack-data                 0.6.2\n",
      "statsmodels                0.14.1\n",
      "sympy                      1.12\n",
      "ta                         0.11.0\n",
      "tensorboard                2.14.0\n",
      "tensorboard-data-server    0.7.2\n",
      "threadpoolctl              3.2.0\n",
      "torch                      2.1.2\n",
      "torchaudio                 2.1.2\n",
      "torchmetrics               1.3.0\n",
      "torchvision                0.16.2\n",
      "tornado                    6.1\n",
      "tqdm                       4.66.1\n",
      "traitlets                  5.14.1\n",
      "typing_extensions          4.9.0\n",
      "tzdata                     2023.4\n",
      "ujson                      5.9.0\n",
      "urllib3                    2.1.0\n",
      "wandb                      0.16.2\n",
      "wcwidth                    0.2.13\n",
      "webencodings               0.5.1\n",
      "Werkzeug                   3.0.1\n",
      "wheel                      0.41.2\n",
      "yarl                       1.9.4\n",
      "yfinance                   0.2.49\n",
      "zipp                       3.17.0\n"
     ]
    }
   ],
   "source": [
    "!pip list"
   ]
  },
  {
   "cell_type": "code",
   "execution_count": 10,
   "metadata": {},
   "outputs": [
    {
     "name": "stdout",
     "output_type": "stream",
     "text": [
      "Using device: cpu\n"
     ]
    },
    {
     "name": "stderr",
     "output_type": "stream",
     "text": [
      "/Users/alecjeffery/anaconda3/envs/spacetimeformer/lib/python3.8/site-packages/lightning/pytorch/utilities/parsing.py:208: Attribute 'loss' is an instance of `nn.Module` and is already saved during checkpointing. It is recommended to ignore them using `self.save_hyperparameters(ignore=['loss'])`.\n",
      "/Users/alecjeffery/anaconda3/envs/spacetimeformer/lib/python3.8/site-packages/lightning/pytorch/utilities/parsing.py:208: Attribute 'logging_metrics' is an instance of `nn.Module` and is already saved during checkpointing. It is recommended to ignore them using `self.save_hyperparameters(ignore=['logging_metrics'])`.\n",
      "/Users/alecjeffery/anaconda3/envs/spacetimeformer/lib/python3.8/site-packages/pytorch_forecasting/models/temporal_fusion_transformer/__init__.py:143: UserWarning: In pytorch-forecasting models, on versions 1.1.X, the default optimizer defaults to 'adam', if pytorch_optimizer is not installed, otherwise it defaults to 'ranger' from pytorch_optimizer. From version 1.2.0, the default optimizer will be 'adam' regardless of whether pytorch_optimizer is installed, in order to minimize the number of dependencies in default parameter settings. Users who wish to ensure their code continues using 'ranger' as optimizer should ensure that pytorch_optimizer is installed, and set the optimizer parameter explicitly to 'ranger'.\n",
      "  super().__init__(loss=loss, logging_metrics=logging_metrics, **kwargs)\n",
      "GPU available: True (mps), used: False\n",
      "TPU available: False, using: 0 TPU cores\n",
      "IPU available: False, using: 0 IPUs\n",
      "HPU available: False, using: 0 HPUs\n",
      "/Users/alecjeffery/anaconda3/envs/spacetimeformer/lib/python3.8/site-packages/pytorch_lightning/trainer/setup.py:187: GPU available but not used. You can set it by doing `Trainer(accelerator='gpu')`.\n",
      "\n",
      "  | Name      | Type                      | Params\n",
      "--------------------------------------------------------\n",
      "0 | tft_model | TemporalFusionTransformer | 306 K \n",
      "--------------------------------------------------------\n",
      "306 K     Trainable params\n",
      "0         Non-trainable params\n",
      "306 K     Total params\n",
      "1.225     Total estimated model params size (MB)\n"
     ]
    },
    {
     "name": "stdout",
     "output_type": "stream",
     "text": [
      "Number of parameters in model: 306319\n",
      "Sanity Checking: |          | 0/? [00:00<?, ?it/s]"
     ]
    },
    {
     "name": "stderr",
     "output_type": "stream",
     "text": [
      "python(6542) MallocStackLogging: can't turn off malloc stack logging because it was not enabled.\n",
      "python(6601) MallocStackLogging: can't turn off malloc stack logging because it was not enabled.\n",
      "python(6631) MallocStackLogging: can't turn off malloc stack logging because it was not enabled.\n",
      "python(6661) MallocStackLogging: can't turn off malloc stack logging because it was not enabled.\n"
     ]
    },
    {
     "name": "stdout",
     "output_type": "stream",
     "text": [
      "                                                                           \r"
     ]
    },
    {
     "name": "stderr",
     "output_type": "stream",
     "text": [
      "python(6715) MallocStackLogging: can't turn off malloc stack logging because it was not enabled.\n",
      "python(6743) MallocStackLogging: can't turn off malloc stack logging because it was not enabled.\n",
      "python(6771) MallocStackLogging: can't turn off malloc stack logging because it was not enabled.\n",
      "python(6773) MallocStackLogging: can't turn off malloc stack logging because it was not enabled.\n"
     ]
    },
    {
     "name": "stdout",
     "output_type": "stream",
     "text": [
      "Epoch 0: 100%|██████████| 3262/3262 [38:18<00:00,  1.42it/s, v_num=4, train_loss_step=0.332, val_loss=0.527]Epoch 0 -> Train Loss: 0.4199943244457245, Validation Loss: 0.5269262194633484\n",
      "Epoch 1: 100%|██████████| 3262/3262 [38:27<00:00,  1.41it/s, v_num=4, train_loss_step=0.337, val_loss=0.520, train_loss_epoch=0.420]Epoch 1 -> Train Loss: 0.33980321884155273, Validation Loss: 0.5203852653503418\n",
      "Epoch 2: 100%|██████████| 3262/3262 [39:12<00:00,  1.39it/s, v_num=4, train_loss_step=0.308, val_loss=0.473, train_loss_epoch=0.340]Epoch 2 -> Train Loss: 0.33212608098983765, Validation Loss: 0.4734472930431366\n",
      "Epoch 3: 100%|██████████| 3262/3262 [38:47<00:00,  1.40it/s, v_num=4, train_loss_step=0.286, val_loss=0.491, train_loss_epoch=0.332]Epoch 3 -> Train Loss: 0.3274373412132263, Validation Loss: 0.49148911237716675\n",
      "Epoch 4: 100%|██████████| 3262/3262 [39:32<00:00,  1.38it/s, v_num=4, train_loss_step=0.300, val_loss=0.520, train_loss_epoch=0.327]Epoch 4 -> Train Loss: 0.3238898515701294, Validation Loss: 0.5204349756240845\n",
      "Epoch 5: 100%|██████████| 3262/3262 [38:09<00:00,  1.42it/s, v_num=4, train_loss_step=0.326, val_loss=0.485, train_loss_epoch=0.324]Epoch 5 -> Train Loss: 0.32090678811073303, Validation Loss: 0.484575092792511\n",
      "Epoch 6: 100%|██████████| 3262/3262 [37:07<00:00,  1.46it/s, v_num=4, train_loss_step=0.322, val_loss=0.451, train_loss_epoch=0.321]Epoch 6 -> Train Loss: 0.31839147210121155, Validation Loss: 0.4506779909133911\n",
      "Epoch 7: 100%|██████████| 3262/3262 [38:39<00:00,  1.41it/s, v_num=4, train_loss_step=0.305, val_loss=0.481, train_loss_epoch=0.318]Epoch 7 -> Train Loss: 0.31572115421295166, Validation Loss: 0.4808242917060852\n",
      "Epoch 8: 100%|██████████| 3262/3262 [37:34<00:00,  1.45it/s, v_num=4, train_loss_step=0.321, val_loss=0.476, train_loss_epoch=0.316]Epoch 8 -> Train Loss: 0.31323835253715515, Validation Loss: 0.47643521428108215\n",
      "Epoch 9: 100%|██████████| 3262/3262 [36:58<00:00,  1.47it/s, v_num=4, train_loss_step=0.322, val_loss=0.491, train_loss_epoch=0.313]Epoch 9 -> Train Loss: 0.3109729588031769, Validation Loss: 0.4908374547958374\n",
      "Epoch 9: 100%|██████████| 3262/3262 [36:58<00:00,  1.47it/s, v_num=4, train_loss_step=0.322, val_loss=0.491, train_loss_epoch=0.311]"
     ]
    },
    {
     "name": "stderr",
     "output_type": "stream",
     "text": [
      "`Trainer.fit` stopped: `max_epochs=10` reached.\n"
     ]
    },
    {
     "name": "stdout",
     "output_type": "stream",
     "text": [
      "Epoch 9: 100%|██████████| 3262/3262 [36:58<00:00,  1.47it/s, v_num=4, train_loss_step=0.322, val_loss=0.491, train_loss_epoch=0.311]\n"
     ]
    }
   ],
   "source": [
    "import os\n",
    "import pandas as pd\n",
    "import numpy as np\n",
    "from pytorch_forecasting.models import TemporalFusionTransformer\n",
    "from pytorch_forecasting.data import TimeSeriesDataSet\n",
    "from pytorch_forecasting.metrics import SMAPE, MAE\n",
    "from pytorch_lightning.callbacks import Callback\n",
    "from torch.utils.data import DataLoader\n",
    "import torch\n",
    "from pytorch_lightning import Trainer, LightningModule\n",
    "\n",
    "# Set device to CUDA if available, otherwise fall back to CPU\n",
    "device = torch.device(\"cuda\" if torch.cuda.is_available() else \"cpu\")\n",
    "print(f\"Using device: {device}\")\n",
    "\n",
    "os.environ[\"PYTORCH_ENABLE_MPS_FALLBACK\"] = \"1\"\n",
    "# Define a custom callback to log train and validation loss\n",
    "class LossLoggerCallback(Callback):\n",
    "    def __init__(self):\n",
    "        super().__init__()\n",
    "        self.epoch_losses = []\n",
    "\n",
    "    def on_train_epoch_end(self, trainer, pl_module):\n",
    "        train_loss = trainer.callback_metrics.get(\"train_loss\", None)\n",
    "        val_loss = trainer.callback_metrics.get(\"val_loss\", None)\n",
    "        self.epoch_losses.append((trainer.current_epoch, train_loss, val_loss))\n",
    "        print(f\"Epoch {trainer.current_epoch} -> Train Loss: {train_loss}, Validation Loss: {val_loss}\")\n",
    "\n",
    "\n",
    "# Dataset preparation class\n",
    "class TimeSeriesDataset:\n",
    "    def __init__(self, data_folder, context_length, forecast_length):\n",
    "        self.context_length = context_length\n",
    "        self.forecast_length = forecast_length\n",
    "        self.data_files = self.load_csv_files(data_folder)\n",
    "\n",
    "    def load_csv_files(self, folder):\n",
    "        all_files = [os.path.join(folder, file) for file in os.listdir(folder) if file.endswith('.csv')]\n",
    "        datasets = []\n",
    "        for file in all_files:\n",
    "            df = pd.read_csv(file, index_col=0)\n",
    "            df[\"time_idx\"] = range(len(df))\n",
    "            df[\"group\"] = os.path.basename(file).split('.')[0]  # Use the file name (without extension) as group ID\n",
    "            datasets.append(df)\n",
    "        return datasets\n",
    "\n",
    "    def to_timeseries_dataset(self):\n",
    "        combined_df = pd.concat(self.data_files, ignore_index=True)\n",
    "        return combined_df\n",
    "\n",
    "# LightningModule wrapper for TemporalFusionTransformer\n",
    "# Wrap the TFT model in the LightningModule\n",
    "class TFTLightningModule(LightningModule):\n",
    "    def __init__(self, tft_model):\n",
    "        super().__init__()\n",
    "        self.tft_model = tft_model\n",
    "\n",
    "    def forward(self, x):\n",
    "        return self.tft_model(x)\n",
    "\n",
    "    def training_step(self, batch, batch_idx):\n",
    "        x, y = batch\n",
    "        x = {key: value.to(self.device) for key, value in x.items()}\n",
    "\n",
    "        # Extract the actual target tensor from the tuple\n",
    "        y = y[0].to(self.device)\n",
    "\n",
    "        # Forward pass\n",
    "        y_hat = self.tft_model(x)\n",
    "        y_pred = y_hat[\"prediction\"]\n",
    "\n",
    "        # Reshape predictions if necessary\n",
    "        if y_pred.ndim > 3:\n",
    "            y_pred = y_pred.squeeze(-1)\n",
    "\n",
    "        # Compute loss\n",
    "        loss = self.tft_model.loss(y_pred, y)\n",
    "        self.log(\"train_loss\", loss, on_step=True, on_epoch=True, prog_bar=True, logger=True)\n",
    "        return loss\n",
    "\n",
    "    def validation_step(self, batch, batch_idx):\n",
    "        x, y = batch\n",
    "        x = {key: value.to(self.device) for key, value in x.items()}\n",
    "\n",
    "        # Extract the actual target tensor from the tuple\n",
    "        y = y[0].to(self.device)\n",
    "\n",
    "        # Forward pass\n",
    "        y_hat = self.tft_model(x)\n",
    "        y_pred = y_hat[\"prediction\"]\n",
    "\n",
    "        # Reshape predictions if necessary\n",
    "        if y_pred.ndim > 3:\n",
    "            y_pred = y_pred.squeeze(-1)\n",
    "\n",
    "        # Compute loss\n",
    "        loss = self.tft_model.loss(y_pred, y)\n",
    "        self.log(\"val_loss\", loss, on_step=False, on_epoch=True, prog_bar=True, logger=True)\n",
    "        return loss\n",
    "\n",
    "    def configure_optimizers(self):\n",
    "        return torch.optim.Adam(self.parameters(), lr=self.tft_model.hparams.learning_rate)\n",
    "\n",
    "\n",
    "if __name__ == \"__main__\":\n",
    "    # Paths for train and test data\n",
    "    train_data_folder = \"/Users/alecjeffery/Documents/Playgrounds/Python/spacetimeformer_stocks/spacetimeformer/data/train\"\n",
    "    test_data_folder = \"/Users/alecjeffery/Documents/Playgrounds/Python/spacetimeformer_stocks/spacetimeformer/data/test\"\n",
    "\n",
    "    context_length = 90\n",
    "    forecast_length = 10\n",
    "\n",
    "    # Prepare the train dataset\n",
    "    train_dataset = TimeSeriesDataset(train_data_folder, context_length, forecast_length)\n",
    "    train_combined_data = train_dataset.to_timeseries_dataset()\n",
    "    # Prepare the test dataset\n",
    "    test_dataset = TimeSeriesDataset(test_data_folder, context_length, forecast_length)\n",
    "    test_combined_data = test_dataset.to_timeseries_dataset()\n",
    "\n",
    "    # Ensure 'group' remains a string type\n",
    "    train_combined_data[\"group\"] = train_combined_data[\"group\"].astype(str)\n",
    "    test_combined_data[\"group\"] = test_combined_data[\"group\"].astype(str)\n",
    "\n",
    "    # # Specify additional dataset columns for train\n",
    "    # train_combined_data[\"target\"] = train_combined_data.iloc[:, 3]  # Assuming the target column is the fourth column\n",
    "    # # Specify additional dataset columns for test\n",
    "    # test_combined_data[\"target\"] = test_combined_data.iloc[:, 3]  # Assuming the target column is the fourth column\n",
    "\n",
    "    train_combined_data = train_combined_data.rename(columns={\"Close\": \"target\"})\n",
    "    test_combined_data = test_combined_data.rename(columns={\"Close\": \"target\"})\n",
    "\n",
    "\n",
    "    # Define the TimeSeriesDataSet for train\n",
    "    train_ts_dataset = TimeSeriesDataSet(\n",
    "        train_combined_data,\n",
    "        time_idx=\"time_idx\",\n",
    "        target=\"target\",\n",
    "        group_ids=[\"group\"],\n",
    "        max_encoder_length=context_length,\n",
    "        max_prediction_length=forecast_length,\n",
    "        static_categoricals=[\"group\"],  # 'group' remains a categorical string\n",
    "        time_varying_known_reals=[\"time_idx\"],\n",
    "        time_varying_unknown_reals = train_combined_data.drop(columns=['group', 'time_idx']).columns.tolist(),\n",
    "        # time_varying_unknown_reals=train_combined_data.columns[:].tolist(),#[\"target\"],\n",
    "        target_normalizer=None,\n",
    "    )\n",
    "\n",
    "    # Define the TimeSeriesDataSet for validation\n",
    "    val_ts_dataset = TimeSeriesDataSet(\n",
    "        test_combined_data,\n",
    "        time_idx=\"time_idx\",\n",
    "        target=\"target\",\n",
    "        group_ids=[\"group\"],  # 'group' remains a categorical string\n",
    "        max_encoder_length=context_length,\n",
    "        max_prediction_length=forecast_length,\n",
    "        static_categoricals=[\"group\"],\n",
    "        time_varying_known_reals=[\"time_idx\"],\n",
    "        # time_varying_unknown_reals=test_combined_data.columns[:].tolist(),\n",
    "        time_varying_unknown_reals = test_combined_data.drop(columns=['group', 'time_idx']).columns.tolist(),\n",
    "        target_normalizer=None,\n",
    "    )\n",
    "\n",
    "    # Split into dataloaders\n",
    "    train_dataloader = train_ts_dataset.to_dataloader(\n",
    "        train=True, batch_size=64, shuffle=True, num_workers=4, persistent_workers=True\n",
    "    )\n",
    "    val_dataloader = val_ts_dataset.to_dataloader(\n",
    "        train=False, batch_size=64, shuffle=False, num_workers=4, persistent_workers=True\n",
    "    )\n",
    "\n",
    "    # Define the TemporalFusionTransformer model\n",
    "    tft = TemporalFusionTransformer.from_dataset(\n",
    "        train_ts_dataset,\n",
    "        learning_rate=1e-4,\n",
    "        lstm_layers=2,\n",
    "        hidden_size=32,  # 16\n",
    "        # n_heads=4,\n",
    "        attention_head_size=16,\n",
    "        dropout=0.2,\n",
    "        # max_encoder_length=90,\n",
    "        # max_prediction_length=10,\n",
    "        hidden_continuous_size=16,\n",
    "        output_size=1,  # Single target output\n",
    "        loss=MAE(),#SMAPE(),\n",
    "        log_interval=10,\n",
    "        reduce_on_plateau_patience=4,\n",
    "    )\n",
    "\n",
    "    # Wrap the TFT model in the LightningModule\n",
    "    tft_module = TFTLightningModule(tft)\n",
    "    tft_module = tft_module.to(device)\n",
    "\n",
    "    # Print model size\n",
    "    print(f\"Number of parameters in model: {tft.size()}\")\n",
    "\n",
    "    # Use PyTorch Lightning Trainer for training\n",
    "    trainer = Trainer(\n",
    "        max_epochs=10,\n",
    "        gradient_clip_val=0.1,\n",
    "        enable_checkpointing=True,\n",
    "        callbacks=[LossLoggerCallback()], \n",
    "        accelerator=\"gpu\" if torch.cuda.is_available() else \"cpu\",\n",
    "        devices=1,  # Number of GPUs to use\n",
    "    )\n",
    "\n",
    "    # Train the model\n",
    "    trainer.fit(tft_module, train_dataloader, val_dataloader)\n",
    "\n",
    "    # Save the trained model\n",
    "    torch.save(tft_module.state_dict(), \"tft_model.pth\")\n",
    "\n",
    "    # # Example inference (requires additional implementation for DataLoader processing)\n",
    "    # raw_predictions, x = tft.predict(val_dataloader, mode=\"raw\", return_x=True)\n",
    "    # print(\"Raw predictions:\", raw_predictions)\n",
    "\n"
   ]
  },
  {
   "cell_type": "markdown",
   "metadata": {},
   "source": [
    "OOS predictions"
   ]
  },
  {
   "cell_type": "code",
   "execution_count": 9,
   "metadata": {},
   "outputs": [
    {
     "name": "stderr",
     "output_type": "stream",
     "text": [
      "/Users/alecjeffery/anaconda3/envs/spacetimeformer/lib/python3.8/site-packages/lightning/pytorch/trainer/setup.py:177: GPU available but not used. You can set it by doing `Trainer(accelerator='gpu')`.\n"
     ]
    },
    {
     "name": "stdout",
     "output_type": "stream",
     "text": [
      "File: CSCO.csv\n",
      "Final Forecast (Last Context Window -> 10 Periods Ahead): [-0.6156679391860962, -0.6164576411247253, -0.6220073103904724, -0.6292522549629211, -0.6378304362297058, -0.6484638452529907, -0.6623948812484741, -0.6810065507888794, -0.7058476805686951, -0.7384976744651794]\n",
      "----------------------------------------\n"
     ]
    },
    {
     "name": "stderr",
     "output_type": "stream",
     "text": [
      "/Users/alecjeffery/anaconda3/envs/spacetimeformer/lib/python3.8/site-packages/lightning/pytorch/trainer/setup.py:177: GPU available but not used. You can set it by doing `Trainer(accelerator='gpu')`.\n"
     ]
    },
    {
     "name": "stdout",
     "output_type": "stream",
     "text": [
      "File: UAL.csv\n",
      "Final Forecast (Last Context Window -> 10 Periods Ahead): [3.089959144592285, 2.762880563735962, 2.404226303100586, 2.1249845027923584, 1.942463755607605, 1.820357322692871, 1.7271616458892822, 1.6484359502792358, 1.579611897468567, 1.5201222896575928]\n",
      "----------------------------------------\n"
     ]
    },
    {
     "name": "stderr",
     "output_type": "stream",
     "text": [
      "/Users/alecjeffery/anaconda3/envs/spacetimeformer/lib/python3.8/site-packages/lightning/pytorch/trainer/setup.py:177: GPU available but not used. You can set it by doing `Trainer(accelerator='gpu')`.\n"
     ]
    },
    {
     "name": "stdout",
     "output_type": "stream",
     "text": [
      "File: BA.csv\n",
      "Final Forecast (Last Context Window -> 10 Periods Ahead): [0.9957687258720398, 0.8845952153205872, 0.8164323568344116, 0.7648114562034607, 0.7157562375068665, 0.6691282391548157, 0.6258593797683716, 0.5864066481590271, 0.5505747199058533, 0.5177565813064575]\n",
      "----------------------------------------\n"
     ]
    },
    {
     "name": "stderr",
     "output_type": "stream",
     "text": [
      "/Users/alecjeffery/anaconda3/envs/spacetimeformer/lib/python3.8/site-packages/lightning/pytorch/trainer/setup.py:177: GPU available but not used. You can set it by doing `Trainer(accelerator='gpu')`.\n"
     ]
    },
    {
     "name": "stdout",
     "output_type": "stream",
     "text": [
      "File: V.csv\n",
      "Final Forecast (Last Context Window -> 10 Periods Ahead): [1.1703366041183472, 1.0436826944351196, 0.9748563170433044, 0.9255737662315369, 0.876617431640625, 0.8265586495399475, 0.7776339650154114, 0.7319691181182861, 0.6905748844146729, 0.6535380482673645]\n",
      "----------------------------------------\n"
     ]
    },
    {
     "name": "stderr",
     "output_type": "stream",
     "text": [
      "/Users/alecjeffery/anaconda3/envs/spacetimeformer/lib/python3.8/site-packages/lightning/pytorch/trainer/setup.py:177: GPU available but not used. You can set it by doing `Trainer(accelerator='gpu')`.\n"
     ]
    },
    {
     "name": "stdout",
     "output_type": "stream",
     "text": [
      "File: BBY.csv\n",
      "Final Forecast (Last Context Window -> 10 Periods Ahead): [-0.4494815468788147, -0.4955052137374878, -0.5288524627685547, -0.5556121468544006, -0.5794441103935242, -0.602989137172699, -0.6283284425735474, -0.657436728477478, -0.692242443561554, -0.7344314455986023]\n",
      "----------------------------------------\n"
     ]
    },
    {
     "name": "stderr",
     "output_type": "stream",
     "text": [
      "/Users/alecjeffery/anaconda3/envs/spacetimeformer/lib/python3.8/site-packages/lightning/pytorch/trainer/setup.py:177: GPU available but not used. You can set it by doing `Trainer(accelerator='gpu')`.\n"
     ]
    },
    {
     "name": "stdout",
     "output_type": "stream",
     "text": [
      "File: WBA.csv\n",
      "Final Forecast (Last Context Window -> 10 Periods Ahead): [1.485300898551941, 1.3016865253448486, 1.145854115486145, 1.065585970878601, 1.0213106870651245, 0.986184298992157, 0.9528644680976868, 0.9200518727302551, 0.88792484998703, 0.8568474650382996]\n",
      "----------------------------------------\n"
     ]
    },
    {
     "name": "stderr",
     "output_type": "stream",
     "text": [
      "/Users/alecjeffery/anaconda3/envs/spacetimeformer/lib/python3.8/site-packages/lightning/pytorch/trainer/setup.py:177: GPU available but not used. You can set it by doing `Trainer(accelerator='gpu')`.\n"
     ]
    },
    {
     "name": "stdout",
     "output_type": "stream",
     "text": [
      "File: SNEX.csv\n",
      "Final Forecast (Last Context Window -> 10 Periods Ahead): [-0.8039023280143738, -0.8301495313644409, -0.8483129739761353, -0.8640396595001221, -0.8810257911682129, -0.9011113047599792, -0.9263610243797302, -0.9586948156356812, -0.999593198299408, -1.0495057106018066]\n",
      "----------------------------------------\n"
     ]
    },
    {
     "name": "stderr",
     "output_type": "stream",
     "text": [
      "/Users/alecjeffery/anaconda3/envs/spacetimeformer/lib/python3.8/site-packages/lightning/pytorch/trainer/setup.py:177: GPU available but not used. You can set it by doing `Trainer(accelerator='gpu')`.\n"
     ]
    },
    {
     "name": "stdout",
     "output_type": "stream",
     "text": [
      "File: HCA.csv\n",
      "Final Forecast (Last Context Window -> 10 Periods Ahead): [0.5589879155158997, 0.44087305665016174, 0.377555251121521, 0.3423250913619995, 0.3168094754219055, 0.2967279851436615, 0.2799532413482666, 0.2650641202926636, 0.250977486371994, 0.23678910732269287]\n",
      "----------------------------------------\n"
     ]
    },
    {
     "name": "stderr",
     "output_type": "stream",
     "text": [
      "/Users/alecjeffery/anaconda3/envs/spacetimeformer/lib/python3.8/site-packages/lightning/pytorch/trainer/setup.py:177: GPU available but not used. You can set it by doing `Trainer(accelerator='gpu')`.\n"
     ]
    },
    {
     "name": "stdout",
     "output_type": "stream",
     "text": [
      "File: C.csv\n",
      "Final Forecast (Last Context Window -> 10 Periods Ahead): [0.5264195203781128, 0.5284013152122498, 0.5435633063316345, 0.5574393272399902, 0.5672841668128967, 0.5747107863426208, 0.5807555317878723, 0.586225688457489, 0.5915094017982483, 0.5955519080162048]\n",
      "----------------------------------------\n"
     ]
    },
    {
     "name": "stderr",
     "output_type": "stream",
     "text": [
      "/Users/alecjeffery/anaconda3/envs/spacetimeformer/lib/python3.8/site-packages/lightning/pytorch/trainer/setup.py:177: GPU available but not used. You can set it by doing `Trainer(accelerator='gpu')`.\n"
     ]
    },
    {
     "name": "stdout",
     "output_type": "stream",
     "text": [
      "File: T.csv\n",
      "Final Forecast (Last Context Window -> 10 Periods Ahead): [1.7378339767456055, 1.9038869142532349, 2.009399175643921, 2.0445339679718018, 2.034389019012451, 1.9979480504989624, 1.9453132152557373, 1.881730556488037, 1.8114839792251587, 1.7381272315979004]\n",
      "----------------------------------------\n"
     ]
    },
    {
     "name": "stderr",
     "output_type": "stream",
     "text": [
      "/Users/alecjeffery/anaconda3/envs/spacetimeformer/lib/python3.8/site-packages/lightning/pytorch/trainer/setup.py:177: GPU available but not used. You can set it by doing `Trainer(accelerator='gpu')`.\n"
     ]
    },
    {
     "name": "stdout",
     "output_type": "stream",
     "text": [
      "File: HUM.csv\n",
      "Final Forecast (Last Context Window -> 10 Periods Ahead): [1.2264565229415894, 1.0873095989227295, 0.9949796795845032, 0.9526790976524353, 0.9259071946144104, 0.9009271264076233, 0.8750105500221252, 0.8483480215072632, 0.8216341733932495, 0.7954235076904297]\n",
      "----------------------------------------\n"
     ]
    },
    {
     "name": "stderr",
     "output_type": "stream",
     "text": [
      "/Users/alecjeffery/anaconda3/envs/spacetimeformer/lib/python3.8/site-packages/lightning/pytorch/trainer/setup.py:177: GPU available but not used. You can set it by doing `Trainer(accelerator='gpu')`.\n"
     ]
    },
    {
     "name": "stdout",
     "output_type": "stream",
     "text": [
      "File: SYY.csv\n",
      "Final Forecast (Last Context Window -> 10 Periods Ahead): [0.4438781142234802, 0.3528517186641693, 0.3135647773742676, 0.2899419665336609, 0.272250235080719, 0.25786587595939636, 0.245173841714859, 0.23309391736984253, 0.22076517343521118, 0.20740798115730286]\n",
      "----------------------------------------\n"
     ]
    },
    {
     "name": "stderr",
     "output_type": "stream",
     "text": [
      "/Users/alecjeffery/anaconda3/envs/spacetimeformer/lib/python3.8/site-packages/lightning/pytorch/trainer/setup.py:177: GPU available but not used. You can set it by doing `Trainer(accelerator='gpu')`.\n"
     ]
    },
    {
     "name": "stdout",
     "output_type": "stream",
     "text": [
      "File: ADM.csv\n",
      "Final Forecast (Last Context Window -> 10 Periods Ahead): [-0.24381610751152039, -0.3425900936126709, -0.38947534561157227, -0.43996089696884155, -0.49120020866394043, -0.5454467535018921, -0.6047039031982422, -0.6712911128997803, -0.7471672296524048, -0.8329815864562988]\n",
      "----------------------------------------\n"
     ]
    },
    {
     "name": "stderr",
     "output_type": "stream",
     "text": [
      "/Users/alecjeffery/anaconda3/envs/spacetimeformer/lib/python3.8/site-packages/lightning/pytorch/trainer/setup.py:177: GPU available but not used. You can set it by doing `Trainer(accelerator='gpu')`.\n"
     ]
    },
    {
     "name": "stdout",
     "output_type": "stream",
     "text": [
      "File: BAC.csv\n",
      "Final Forecast (Last Context Window -> 10 Periods Ahead): [1.359670877456665, 1.2772001028060913, 1.2753010988235474, 1.2999107837677002, 1.308369755744934, 1.2978583574295044, 1.275641679763794, 1.248146653175354, 1.2196571826934814, 1.1926517486572266]\n",
      "----------------------------------------\n"
     ]
    },
    {
     "name": "stderr",
     "output_type": "stream",
     "text": [
      "/Users/alecjeffery/anaconda3/envs/spacetimeformer/lib/python3.8/site-packages/lightning/pytorch/trainer/setup.py:177: GPU available but not used. You can set it by doing `Trainer(accelerator='gpu')`.\n"
     ]
    },
    {
     "name": "stdout",
     "output_type": "stream",
     "text": [
      "File: PSX.csv\n",
      "Final Forecast (Last Context Window -> 10 Periods Ahead): [1.1214882135391235, 1.0595639944076538, 1.050533652305603, 1.0536549091339111, 1.0437545776367188, 1.0248430967330933, 1.0021851062774658, 0.9794592261314392, 0.958706796169281, 0.9407874345779419]\n",
      "----------------------------------------\n"
     ]
    },
    {
     "name": "stderr",
     "output_type": "stream",
     "text": [
      "/Users/alecjeffery/anaconda3/envs/spacetimeformer/lib/python3.8/site-packages/lightning/pytorch/trainer/setup.py:177: GPU available but not used. You can set it by doing `Trainer(accelerator='gpu')`.\n"
     ]
    },
    {
     "name": "stdout",
     "output_type": "stream",
     "text": [
      "File: ADBE.csv\n",
      "Final Forecast (Last Context Window -> 10 Periods Ahead): [-1.0335432291030884, -1.0693405866622925, -1.096234679222107, -1.1236196756362915, -1.153807520866394, -1.1897859573364258, -1.2328664064407349, -1.2820204496383667, -1.3335890769958496, -1.3826109170913696]\n",
      "----------------------------------------\n"
     ]
    },
    {
     "name": "stderr",
     "output_type": "stream",
     "text": [
      "/Users/alecjeffery/anaconda3/envs/spacetimeformer/lib/python3.8/site-packages/lightning/pytorch/trainer/setup.py:177: GPU available but not used. You can set it by doing `Trainer(accelerator='gpu')`.\n"
     ]
    },
    {
     "name": "stdout",
     "output_type": "stream",
     "text": [
      "File: TSN.csv\n",
      "Final Forecast (Last Context Window -> 10 Periods Ahead): [-0.20145124197006226, -0.22733214497566223, -0.25205105543136597, -0.2825610339641571, -0.3134194016456604, -0.3469093441963196, -0.3837625980377197, -0.425311416387558, -0.47308874130249023, -0.5286406874656677]\n",
      "----------------------------------------\n"
     ]
    },
    {
     "name": "stderr",
     "output_type": "stream",
     "text": [
      "/Users/alecjeffery/anaconda3/envs/spacetimeformer/lib/python3.8/site-packages/lightning/pytorch/trainer/setup.py:177: GPU available but not used. You can set it by doing `Trainer(accelerator='gpu')`.\n"
     ]
    },
    {
     "name": "stdout",
     "output_type": "stream",
     "text": [
      "File: PEP.csv\n",
      "Final Forecast (Last Context Window -> 10 Periods Ahead): [0.7891342043876648, 0.6284022331237793, 0.5492574572563171, 0.5020247101783752, 0.46547722816467285, 0.43620234727859497, 0.412124902009964, 0.3915877938270569, 0.3730742633342743, 0.35526663064956665]\n",
      "----------------------------------------\n"
     ]
    },
    {
     "name": "stderr",
     "output_type": "stream",
     "text": [
      "/Users/alecjeffery/anaconda3/envs/spacetimeformer/lib/python3.8/site-packages/lightning/pytorch/trainer/setup.py:177: GPU available but not used. You can set it by doing `Trainer(accelerator='gpu')`.\n"
     ]
    },
    {
     "name": "stdout",
     "output_type": "stream",
     "text": [
      "File: LLY.csv\n",
      "Final Forecast (Last Context Window -> 10 Periods Ahead): [-0.5076872706413269, -0.5716496706008911, -0.6157124638557434, -0.6508422493934631, -0.6816356182098389, -0.7113450169563293, -0.7426904439926147, -0.7782377600669861, -0.8203705549240112, -0.8709002733230591]\n",
      "----------------------------------------\n"
     ]
    },
    {
     "name": "stderr",
     "output_type": "stream",
     "text": [
      "/Users/alecjeffery/anaconda3/envs/spacetimeformer/lib/python3.8/site-packages/lightning/pytorch/trainer/setup.py:177: GPU available but not used. You can set it by doing `Trainer(accelerator='gpu')`.\n"
     ]
    },
    {
     "name": "stdout",
     "output_type": "stream",
     "text": [
      "File: COST.csv\n",
      "Final Forecast (Last Context Window -> 10 Periods Ahead): [-0.6268137693405151, -0.6765038371086121, -0.7117778062820435, -0.7411453127861023, -0.7682797908782959, -0.7957229614257812, -0.825859010219574, -0.8609972596168518, -0.9032906889915466, -0.9543010592460632]\n",
      "----------------------------------------\n"
     ]
    },
    {
     "name": "stderr",
     "output_type": "stream",
     "text": [
      "/Users/alecjeffery/anaconda3/envs/spacetimeformer/lib/python3.8/site-packages/lightning/pytorch/trainer/setup.py:177: GPU available but not used. You can set it by doing `Trainer(accelerator='gpu')`.\n"
     ]
    },
    {
     "name": "stdout",
     "output_type": "stream",
     "text": [
      "File: LOW.csv\n",
      "Final Forecast (Last Context Window -> 10 Periods Ahead): [-0.8072131276130676, -0.8106955289840698, -0.8127935528755188, -0.8154367804527283, -0.8207949995994568, -0.8300263285636902, -0.8445358276367188, -0.8657141923904419, -0.8948670029640198, -0.9329606890678406]\n",
      "----------------------------------------\n"
     ]
    },
    {
     "name": "stderr",
     "output_type": "stream",
     "text": [
      "/Users/alecjeffery/anaconda3/envs/spacetimeformer/lib/python3.8/site-packages/lightning/pytorch/trainer/setup.py:177: GPU available but not used. You can set it by doing `Trainer(accelerator='gpu')`.\n"
     ]
    },
    {
     "name": "stdout",
     "output_type": "stream",
     "text": [
      "File: MET.csv\n",
      "Final Forecast (Last Context Window -> 10 Periods Ahead): [0.33797720074653625, 0.3262476325035095, 0.31915581226348877, 0.31401681900024414, 0.30705124139785767, 0.2980685234069824, 0.28733113408088684, 0.2767772376537323, 0.27831125259399414, 0.39768368005752563]\n",
      "----------------------------------------\n"
     ]
    },
    {
     "name": "stderr",
     "output_type": "stream",
     "text": [
      "/Users/alecjeffery/anaconda3/envs/spacetimeformer/lib/python3.8/site-packages/lightning/pytorch/trainer/setup.py:177: GPU available but not used. You can set it by doing `Trainer(accelerator='gpu')`.\n"
     ]
    },
    {
     "name": "stdout",
     "output_type": "stream",
     "text": [
      "File: TJX.csv\n",
      "Final Forecast (Last Context Window -> 10 Periods Ahead): [-0.5778853297233582, -0.6062363386154175, -0.6299152970314026, -0.6507466435432434, -0.6707040071487427, -0.6915263533592224, -0.7151015996932983, -0.7433963418006897, -0.7784505486488342, -0.8221403360366821]\n",
      "----------------------------------------\n"
     ]
    },
    {
     "name": "stderr",
     "output_type": "stream",
     "text": [
      "/Users/alecjeffery/anaconda3/envs/spacetimeformer/lib/python3.8/site-packages/lightning/pytorch/trainer/setup.py:177: GPU available but not used. You can set it by doing `Trainer(accelerator='gpu')`.\n"
     ]
    },
    {
     "name": "stdout",
     "output_type": "stream",
     "text": [
      "File: MRK.csv\n",
      "Final Forecast (Last Context Window -> 10 Periods Ahead): [0.7229374051094055, 0.5674634575843811, 0.4859948754310608, 0.44071805477142334, 0.4072287678718567, 0.3805748224258423, 0.3584367036819458, 0.3392689824104309, 0.3218613564968109, 0.30519646406173706]\n",
      "----------------------------------------\n"
     ]
    },
    {
     "name": "stderr",
     "output_type": "stream",
     "text": [
      "/Users/alecjeffery/anaconda3/envs/spacetimeformer/lib/python3.8/site-packages/lightning/pytorch/trainer/setup.py:177: GPU available but not used. You can set it by doing `Trainer(accelerator='gpu')`.\n"
     ]
    },
    {
     "name": "stdout",
     "output_type": "stream",
     "text": [
      "File: ABBV.csv\n",
      "Final Forecast (Last Context Window -> 10 Periods Ahead): [0.5950077772140503, 0.4479007124900818, 0.3916310667991638, 0.3564482629299164, 0.33051878213882446, 0.3110433518886566, 0.2957846522331238, 0.2830439805984497, 0.27151957154273987, 0.2602159380912781]\n",
      "----------------------------------------\n"
     ]
    },
    {
     "name": "stderr",
     "output_type": "stream",
     "text": [
      "/Users/alecjeffery/anaconda3/envs/spacetimeformer/lib/python3.8/site-packages/lightning/pytorch/trainer/setup.py:177: GPU available but not used. You can set it by doing `Trainer(accelerator='gpu')`.\n"
     ]
    },
    {
     "name": "stdout",
     "output_type": "stream",
     "text": [
      "File: PG.csv\n",
      "Final Forecast (Last Context Window -> 10 Periods Ahead): [1.7155022621154785, 1.5266722440719604, 1.3705315589904785, 1.2722643613815308, 1.1976244449615479, 1.1286636590957642, 1.0630149841308594, 1.0016828775405884, 0.9454812407493591, 0.8945474624633789]\n",
      "----------------------------------------\n"
     ]
    },
    {
     "name": "stderr",
     "output_type": "stream",
     "text": [
      "/Users/alecjeffery/anaconda3/envs/spacetimeformer/lib/python3.8/site-packages/lightning/pytorch/trainer/setup.py:177: GPU available but not used. You can set it by doing `Trainer(accelerator='gpu')`.\n"
     ]
    },
    {
     "name": "stdout",
     "output_type": "stream",
     "text": [
      "File: CAT.csv\n",
      "Final Forecast (Last Context Window -> 10 Periods Ahead): [0.9533839821815491, 0.9570833444595337, 0.9683131575584412, 0.990987241268158, 0.995208203792572, 0.9814907908439636, 0.95673006772995, 0.9269598126411438, 0.8969327211380005, 0.8717798590660095]\n",
      "----------------------------------------\n"
     ]
    },
    {
     "name": "stderr",
     "output_type": "stream",
     "text": [
      "/Users/alecjeffery/anaconda3/envs/spacetimeformer/lib/python3.8/site-packages/lightning/pytorch/trainer/setup.py:177: GPU available but not used. You can set it by doing `Trainer(accelerator='gpu')`.\n"
     ]
    },
    {
     "name": "stdout",
     "output_type": "stream",
     "text": [
      "File: MCD.csv\n",
      "Final Forecast (Last Context Window -> 10 Periods Ahead): [0.44850248098373413, 0.37442657351493835, 0.3454242944717407, 0.3252335786819458, 0.30720579624176025, 0.29009538888931274, 0.27300548553466797, 0.25514185428619385, 0.235641747713089, 0.21351584792137146]\n",
      "----------------------------------------\n"
     ]
    },
    {
     "name": "stderr",
     "output_type": "stream",
     "text": [
      "/Users/alecjeffery/anaconda3/envs/spacetimeformer/lib/python3.8/site-packages/lightning/pytorch/trainer/setup.py:177: GPU available but not used. You can set it by doing `Trainer(accelerator='gpu')`.\n"
     ]
    },
    {
     "name": "stdout",
     "output_type": "stream",
     "text": [
      "File: AMZN.csv\n",
      "Final Forecast (Last Context Window -> 10 Periods Ahead): [0.29481521248817444, 0.26841139793395996, 0.26317858695983887, 0.2640147805213928, 0.2647108733654022, 0.26469147205352783, 0.26369333267211914, 0.2619282603263855, 0.25977176427841187, 0.2588220238685608]\n",
      "----------------------------------------\n"
     ]
    },
    {
     "name": "stderr",
     "output_type": "stream",
     "text": [
      "/Users/alecjeffery/anaconda3/envs/spacetimeformer/lib/python3.8/site-packages/lightning/pytorch/trainer/setup.py:177: GPU available but not used. You can set it by doing `Trainer(accelerator='gpu')`.\n"
     ]
    },
    {
     "name": "stdout",
     "output_type": "stream",
     "text": [
      "File: INTC.csv\n",
      "Final Forecast (Last Context Window -> 10 Periods Ahead): [1.3983649015426636, 1.1915295124053955, 1.0567693710327148, 0.9806756377220154, 0.924973726272583, 0.8752984404563904, 0.8286408185958862, 0.7850016951560974, 0.7447143197059631, 0.7078326344490051]\n",
      "----------------------------------------\n"
     ]
    },
    {
     "name": "stderr",
     "output_type": "stream",
     "text": [
      "/Users/alecjeffery/anaconda3/envs/spacetimeformer/lib/python3.8/site-packages/lightning/pytorch/trainer/setup.py:177: GPU available but not used. You can set it by doing `Trainer(accelerator='gpu')`.\n"
     ]
    },
    {
     "name": "stdout",
     "output_type": "stream",
     "text": [
      "File: PBF.csv\n",
      "Final Forecast (Last Context Window -> 10 Periods Ahead): [0.5448676943778992, 0.44828686118125916, 0.3901910185813904, 0.3568880259990692, 0.3314135670661926, 0.30976441502571106, 0.29022717475891113, 0.27155357599258423, 0.2526581287384033, 0.23243480920791626]\n",
      "----------------------------------------\n"
     ]
    },
    {
     "name": "stderr",
     "output_type": "stream",
     "text": [
      "/Users/alecjeffery/anaconda3/envs/spacetimeformer/lib/python3.8/site-packages/lightning/pytorch/trainer/setup.py:177: GPU available but not used. You can set it by doing `Trainer(accelerator='gpu')`.\n"
     ]
    },
    {
     "name": "stdout",
     "output_type": "stream",
     "text": [
      "File: ABEV.csv\n",
      "Final Forecast (Last Context Window -> 10 Periods Ahead): [0.6915483474731445, 0.7146810293197632, 0.72572922706604, 0.7317183017730713, 0.7282186150550842, 0.7157081961631775, 0.6924632787704468, 0.652047872543335, 0.5735344290733337, 0.3617735505104065]\n",
      "----------------------------------------\n"
     ]
    },
    {
     "name": "stderr",
     "output_type": "stream",
     "text": [
      "/Users/alecjeffery/anaconda3/envs/spacetimeformer/lib/python3.8/site-packages/lightning/pytorch/trainer/setup.py:177: GPU available but not used. You can set it by doing `Trainer(accelerator='gpu')`.\n"
     ]
    },
    {
     "name": "stdout",
     "output_type": "stream",
     "text": [
      "File: TMO.csv\n",
      "Final Forecast (Last Context Window -> 10 Periods Ahead): [1.1073148250579834, 0.9869961142539978, 0.9155409932136536, 0.8617463111877441, 0.8100014925003052, 0.7602173686027527, 0.7143747210502625, 0.6736545562744141, 0.6381279230117798, 0.6071842312812805]\n",
      "----------------------------------------\n"
     ]
    },
    {
     "name": "stderr",
     "output_type": "stream",
     "text": [
      "/Users/alecjeffery/anaconda3/envs/spacetimeformer/lib/python3.8/site-packages/lightning/pytorch/trainer/setup.py:177: GPU available but not used. You can set it by doing `Trainer(accelerator='gpu')`.\n"
     ]
    },
    {
     "name": "stdout",
     "output_type": "stream",
     "text": [
      "File: MMM.csv\n",
      "Final Forecast (Last Context Window -> 10 Periods Ahead): [1.6591213941574097, 1.4950991868972778, 1.3563182353973389, 1.259217381477356, 1.177139163017273, 1.0990066528320312, 1.0251269340515137, 0.9574218392372131, 0.8967973589897156, 0.8431709408760071]\n",
      "----------------------------------------\n"
     ]
    },
    {
     "name": "stderr",
     "output_type": "stream",
     "text": [
      "/Users/alecjeffery/anaconda3/envs/spacetimeformer/lib/python3.8/site-packages/lightning/pytorch/trainer/setup.py:177: GPU available but not used. You can set it by doing `Trainer(accelerator='gpu')`.\n"
     ]
    },
    {
     "name": "stdout",
     "output_type": "stream",
     "text": [
      "File: UPS.csv\n",
      "Final Forecast (Last Context Window -> 10 Periods Ahead): [1.8645967245101929, 2.198953151702881, 2.364018678665161, 2.428781509399414, 2.4385411739349365, 2.4119579792022705, 2.3621978759765625, 2.301774740219116, 2.239201784133911, 2.1776723861694336]\n",
      "----------------------------------------\n"
     ]
    },
    {
     "name": "stderr",
     "output_type": "stream",
     "text": [
      "/Users/alecjeffery/anaconda3/envs/spacetimeformer/lib/python3.8/site-packages/lightning/pytorch/trainer/setup.py:177: GPU available but not used. You can set it by doing `Trainer(accelerator='gpu')`.\n"
     ]
    },
    {
     "name": "stdout",
     "output_type": "stream",
     "text": [
      "File: ELV.csv\n",
      "Final Forecast (Last Context Window -> 10 Periods Ahead): [2.8564436435699463, 2.5409021377563477, 2.2162201404571533, 1.9472030401229858, 1.7672170400619507, 1.653527855873108, 1.5727952718734741, 1.5068553686141968, 1.449317455291748, 1.3989213705062866]\n",
      "----------------------------------------\n"
     ]
    },
    {
     "name": "stderr",
     "output_type": "stream",
     "text": [
      "/Users/alecjeffery/anaconda3/envs/spacetimeformer/lib/python3.8/site-packages/lightning/pytorch/trainer/setup.py:177: GPU available but not used. You can set it by doing `Trainer(accelerator='gpu')`.\n"
     ]
    },
    {
     "name": "stdout",
     "output_type": "stream",
     "text": [
      "File: MSFT.csv\n",
      "Final Forecast (Last Context Window -> 10 Periods Ahead): [0.9988616108894348, 1.0315126180648804, 1.0842769145965576, 1.1330420970916748, 1.1513663530349731, 1.1485059261322021, 1.13417649269104, 1.1150881052017212, 1.0953361988067627, 1.0774377584457397]\n",
      "----------------------------------------\n"
     ]
    },
    {
     "name": "stderr",
     "output_type": "stream",
     "text": [
      "/Users/alecjeffery/anaconda3/envs/spacetimeformer/lib/python3.8/site-packages/lightning/pytorch/trainer/setup.py:177: GPU available but not used. You can set it by doing `Trainer(accelerator='gpu')`.\n"
     ]
    },
    {
     "name": "stdout",
     "output_type": "stream",
     "text": [
      "File: HP.csv\n",
      "Final Forecast (Last Context Window -> 10 Periods Ahead): [0.20140960812568665, 0.18113967776298523, 0.1692647933959961, 0.1610659956932068, 0.15215453505516052, 0.14166313409805298, 0.12877964973449707, 0.11251329630613327, 0.09098493307828903, 0.05942726135253906]\n",
      "----------------------------------------\n"
     ]
    },
    {
     "name": "stderr",
     "output_type": "stream",
     "text": [
      "/Users/alecjeffery/anaconda3/envs/spacetimeformer/lib/python3.8/site-packages/lightning/pytorch/trainer/setup.py:177: GPU available but not used. You can set it by doing `Trainer(accelerator='gpu')`.\n"
     ]
    },
    {
     "name": "stdout",
     "output_type": "stream",
     "text": [
      "File: DE.csv\n",
      "Final Forecast (Last Context Window -> 10 Periods Ahead): [-0.5538918972015381, -0.6076453328132629, -0.6464616060256958, -0.6781234741210938, -0.7063574194908142, -0.733981728553772, -0.7634317278862, -0.7970671057701111, -0.8372091054916382, -0.8858485817909241]\n",
      "----------------------------------------\n"
     ]
    },
    {
     "name": "stderr",
     "output_type": "stream",
     "text": [
      "/Users/alecjeffery/anaconda3/envs/spacetimeformer/lib/python3.8/site-packages/lightning/pytorch/trainer/setup.py:177: GPU available but not used. You can set it by doing `Trainer(accelerator='gpu')`.\n"
     ]
    },
    {
     "name": "stdout",
     "output_type": "stream",
     "text": [
      "File: AMD.csv\n",
      "Final Forecast (Last Context Window -> 10 Periods Ahead): [0.5450538992881775, 0.6334230303764343, 0.6706497073173523, 0.6939502358436584, 0.7040777206420898, 0.701935350894928, 0.6837616562843323, 0.629456102848053, 0.41528433561325073, -0.33780157566070557]\n",
      "----------------------------------------\n"
     ]
    },
    {
     "name": "stderr",
     "output_type": "stream",
     "text": [
      "/Users/alecjeffery/anaconda3/envs/spacetimeformer/lib/python3.8/site-packages/lightning/pytorch/trainer/setup.py:177: GPU available but not used. You can set it by doing `Trainer(accelerator='gpu')`.\n"
     ]
    },
    {
     "name": "stdout",
     "output_type": "stream",
     "text": [
      "File: RTX.csv\n",
      "Final Forecast (Last Context Window -> 10 Periods Ahead): [1.8345937728881836, 1.7214078903198242, 1.608563780784607, 1.5125590562820435, 1.422157645225525, 1.330575704574585, 1.2407068014144897, 1.156514286994934, 1.0802029371261597, 1.0123032331466675]\n",
      "----------------------------------------\n"
     ]
    },
    {
     "name": "stderr",
     "output_type": "stream",
     "text": [
      "/Users/alecjeffery/anaconda3/envs/spacetimeformer/lib/python3.8/site-packages/lightning/pytorch/trainer/setup.py:177: GPU available but not used. You can set it by doing `Trainer(accelerator='gpu')`.\n"
     ]
    },
    {
     "name": "stdout",
     "output_type": "stream",
     "text": [
      "File: NVDA.csv\n",
      "Final Forecast (Last Context Window -> 10 Periods Ahead): [-0.7583531737327576, -0.7875377535820007, -0.8086254000663757, -0.8270964026451111, -0.8462684750556946, -0.8679351806640625, -0.894071102142334, -0.9265705943107605, -0.9670558571815491, -1.0163872241973877]\n",
      "----------------------------------------\n"
     ]
    },
    {
     "name": "stderr",
     "output_type": "stream",
     "text": [
      "/Users/alecjeffery/anaconda3/envs/spacetimeformer/lib/python3.8/site-packages/lightning/pytorch/trainer/setup.py:177: GPU available but not used. You can set it by doing `Trainer(accelerator='gpu')`.\n"
     ]
    },
    {
     "name": "stdout",
     "output_type": "stream",
     "text": [
      "File: HD.csv\n",
      "Final Forecast (Last Context Window -> 10 Periods Ahead): [-0.3883116543292999, -0.4381555914878845, -0.4754454791545868, -0.5074100494384766, -0.5378287434577942, -0.5699480772018433, -0.6058143973350525, -0.6473534107208252, -0.6964338421821594, -0.7545737624168396]\n",
      "----------------------------------------\n"
     ]
    },
    {
     "name": "stderr",
     "output_type": "stream",
     "text": [
      "/Users/alecjeffery/anaconda3/envs/spacetimeformer/lib/python3.8/site-packages/lightning/pytorch/trainer/setup.py:177: GPU available but not used. You can set it by doing `Trainer(accelerator='gpu')`.\n"
     ]
    },
    {
     "name": "stdout",
     "output_type": "stream",
     "text": [
      "File: VLO.csv\n",
      "Final Forecast (Last Context Window -> 10 Periods Ahead): [0.4615016579627991, 0.4147682785987854, 0.40055471658706665, 0.3913624584674835, 0.3822857737541199, 0.3733561038970947, 0.3645663857460022, 0.35635218024253845, 0.34991973638534546, 0.35023999214172363]\n",
      "----------------------------------------\n"
     ]
    },
    {
     "name": "stderr",
     "output_type": "stream",
     "text": [
      "/Users/alecjeffery/anaconda3/envs/spacetimeformer/lib/python3.8/site-packages/lightning/pytorch/trainer/setup.py:177: GPU available but not used. You can set it by doing `Trainer(accelerator='gpu')`.\n"
     ]
    },
    {
     "name": "stdout",
     "output_type": "stream",
     "text": [
      "File: FDX.csv\n",
      "Final Forecast (Last Context Window -> 10 Periods Ahead): [-0.5907114148139954, -0.6369023323059082, -0.6707624197006226, -0.6981683969497681, -0.7233208417892456, -0.7487077713012695, -0.7766751050949097, -0.809472382068634, -0.8492213487625122, -0.8974940180778503]\n",
      "----------------------------------------\n"
     ]
    },
    {
     "name": "stderr",
     "output_type": "stream",
     "text": [
      "/Users/alecjeffery/anaconda3/envs/spacetimeformer/lib/python3.8/site-packages/lightning/pytorch/trainer/setup.py:177: GPU available but not used. You can set it by doing `Trainer(accelerator='gpu')`.\n"
     ]
    },
    {
     "name": "stdout",
     "output_type": "stream",
     "text": [
      "File: ET.csv\n",
      "Final Forecast (Last Context Window -> 10 Periods Ahead): [1.4776586294174194, 1.3048475980758667, 1.1495506763458252, 1.0659877061843872, 1.0235847234725952, 0.9932053685188293, 0.9653810858726501, 0.9378674626350403, 0.9104806184768677, 0.8835213780403137]\n",
      "----------------------------------------\n"
     ]
    },
    {
     "name": "stderr",
     "output_type": "stream",
     "text": [
      "/Users/alecjeffery/anaconda3/envs/spacetimeformer/lib/python3.8/site-packages/lightning/pytorch/trainer/setup.py:177: GPU available but not used. You can set it by doing `Trainer(accelerator='gpu')`.\n"
     ]
    },
    {
     "name": "stdout",
     "output_type": "stream",
     "text": [
      "File: AXP.csv\n",
      "Final Forecast (Last Context Window -> 10 Periods Ahead): [1.2074017524719238, 1.01205575466156, 0.8856105804443359, 0.8174205422401428, 0.7691104412078857, 0.7280098795890808, 0.6905072331428528, 0.6557355523109436, 0.6235197186470032, 0.5937178730964661]\n",
      "----------------------------------------\n"
     ]
    },
    {
     "name": "stderr",
     "output_type": "stream",
     "text": [
      "/Users/alecjeffery/anaconda3/envs/spacetimeformer/lib/python3.8/site-packages/lightning/pytorch/trainer/setup.py:177: GPU available but not used. You can set it by doing `Trainer(accelerator='gpu')`.\n"
     ]
    },
    {
     "name": "stdout",
     "output_type": "stream",
     "text": [
      "File: XOM.csv\n",
      "Final Forecast (Last Context Window -> 10 Periods Ahead): [0.7724795341491699, 0.6639705300331116, 0.615558385848999, 0.5892271399497986, 0.5670787692070007, 0.5476750731468201, 0.5313194990158081, 0.5180593132972717, 0.5075731873512268, 0.49939674139022827]\n",
      "----------------------------------------\n"
     ]
    },
    {
     "name": "stderr",
     "output_type": "stream",
     "text": [
      "/Users/alecjeffery/anaconda3/envs/spacetimeformer/lib/python3.8/site-packages/lightning/pytorch/trainer/setup.py:177: GPU available but not used. You can set it by doing `Trainer(accelerator='gpu')`.\n"
     ]
    },
    {
     "name": "stdout",
     "output_type": "stream",
     "text": [
      "File: CVX.csv\n",
      "Final Forecast (Last Context Window -> 10 Periods Ahead): [0.3732605576515198, 0.4481463134288788, 0.47668153047561646, 0.4631040692329407, 0.12680411338806152, -0.4206295609474182, -0.5639856457710266, -0.7058344483375549, -0.8215463757514954, -0.9203474521636963]\n",
      "----------------------------------------\n"
     ]
    },
    {
     "name": "stderr",
     "output_type": "stream",
     "text": [
      "/Users/alecjeffery/anaconda3/envs/spacetimeformer/lib/python3.8/site-packages/lightning/pytorch/trainer/setup.py:177: GPU available but not used. You can set it by doing `Trainer(accelerator='gpu')`.\n"
     ]
    },
    {
     "name": "stdout",
     "output_type": "stream",
     "text": [
      "File: CMCSA.csv\n",
      "Final Forecast (Last Context Window -> 10 Periods Ahead): [1.8777153491973877, 2.2870383262634277, 2.5194478034973145, 2.625356912612915, 2.662736415863037, 2.659263849258423, 2.624821662902832, 2.568814277648926, 2.4988152980804443, 2.4196932315826416]\n",
      "----------------------------------------\n"
     ]
    },
    {
     "name": "stderr",
     "output_type": "stream",
     "text": [
      "/Users/alecjeffery/anaconda3/envs/spacetimeformer/lib/python3.8/site-packages/lightning/pytorch/trainer/setup.py:177: GPU available but not used. You can set it by doing `Trainer(accelerator='gpu')`.\n"
     ]
    },
    {
     "name": "stdout",
     "output_type": "stream",
     "text": [
      "File: NKE.csv\n",
      "Final Forecast (Last Context Window -> 10 Periods Ahead): [-0.69222092628479, -0.7395563721656799, -0.7719880938529968, -0.7978052496910095, -0.8218114972114563, -0.8468833565711975, -0.8756547570228577, -0.9104947447776794, -0.95332932472229, -1.0050796270370483]\n",
      "----------------------------------------\n"
     ]
    },
    {
     "name": "stderr",
     "output_type": "stream",
     "text": [
      "/Users/alecjeffery/anaconda3/envs/spacetimeformer/lib/python3.8/site-packages/lightning/pytorch/trainer/setup.py:177: GPU available but not used. You can set it by doing `Trainer(accelerator='gpu')`.\n"
     ]
    },
    {
     "name": "stdout",
     "output_type": "stream",
     "text": [
      "File: KR.csv\n",
      "Final Forecast (Last Context Window -> 10 Periods Ahead): [-0.6947687864303589, -0.7325060367584229, -0.7589432001113892, -0.7806682586669922, -0.8016009330749512, -0.8239641189575195, -0.8500228524208069, -0.8819820284843445, -0.9218369722366333, -0.9708588719367981]\n",
      "----------------------------------------\n"
     ]
    },
    {
     "name": "stderr",
     "output_type": "stream",
     "text": [
      "/Users/alecjeffery/anaconda3/envs/spacetimeformer/lib/python3.8/site-packages/lightning/pytorch/trainer/setup.py:177: GPU available but not used. You can set it by doing `Trainer(accelerator='gpu')`.\n"
     ]
    },
    {
     "name": "stdout",
     "output_type": "stream",
     "text": [
      "File: IBM.csv\n",
      "Final Forecast (Last Context Window -> 10 Periods Ahead): [1.6413052082061768, 1.4999407529830933, 1.3608170747756958, 1.2591787576675415, 1.1693509817123413, 1.0816172361373901, 0.9980601668357849, 0.9216488003730774, 0.8536902070045471, 0.7940863370895386]\n",
      "----------------------------------------\n"
     ]
    },
    {
     "name": "stderr",
     "output_type": "stream",
     "text": [
      "/Users/alecjeffery/anaconda3/envs/spacetimeformer/lib/python3.8/site-packages/lightning/pytorch/trainer/setup.py:177: GPU available but not used. You can set it by doing `Trainer(accelerator='gpu')`.\n"
     ]
    },
    {
     "name": "stdout",
     "output_type": "stream",
     "text": [
      "File: WFC.csv\n",
      "Final Forecast (Last Context Window -> 10 Periods Ahead): [1.8240958452224731, 1.6791027784347534, 1.5365530252456665, 1.443408727645874, 1.373462200164795, 1.3083735704421997, 1.2451326847076416, 1.1848257780075073, 1.1286336183547974, 1.0770920515060425]\n",
      "----------------------------------------\n"
     ]
    },
    {
     "name": "stderr",
     "output_type": "stream",
     "text": [
      "/Users/alecjeffery/anaconda3/envs/spacetimeformer/lib/python3.8/site-packages/lightning/pytorch/trainer/setup.py:177: GPU available but not used. You can set it by doing `Trainer(accelerator='gpu')`.\n"
     ]
    },
    {
     "name": "stdout",
     "output_type": "stream",
     "text": [
      "File: GS.csv\n",
      "Final Forecast (Last Context Window -> 10 Periods Ahead): [1.4333975315093994, 1.2797223329544067, 1.1748007535934448, 1.1128041744232178, 1.0607050657272339, 1.007757544517517, 0.9540793299674988, 0.9017634391784668, 0.8522695302963257, 0.8061685562133789]\n",
      "----------------------------------------\n"
     ]
    },
    {
     "name": "stderr",
     "output_type": "stream",
     "text": [
      "/Users/alecjeffery/anaconda3/envs/spacetimeformer/lib/python3.8/site-packages/lightning/pytorch/trainer/setup.py:177: GPU available but not used. You can set it by doing `Trainer(accelerator='gpu')`.\n"
     ]
    },
    {
     "name": "stdout",
     "output_type": "stream",
     "text": [
      "File: CAH.csv\n",
      "Final Forecast (Last Context Window -> 10 Periods Ahead): [1.1850906610488892, 1.301013469696045, 1.3982031345367432, 1.4602888822555542, 1.4722312688827515, 1.449591875076294, 1.4057170152664185, 1.3495450019836426, 1.2875770330429077, 1.2256075143814087]\n",
      "----------------------------------------\n"
     ]
    },
    {
     "name": "stderr",
     "output_type": "stream",
     "text": [
      "/Users/alecjeffery/anaconda3/envs/spacetimeformer/lib/python3.8/site-packages/lightning/pytorch/trainer/setup.py:177: GPU available but not used. You can set it by doing `Trainer(accelerator='gpu')`.\n"
     ]
    },
    {
     "name": "stdout",
     "output_type": "stream",
     "text": [
      "File: DELL.csv\n",
      "Final Forecast (Last Context Window -> 10 Periods Ahead): [-1.0065233707427979, -1.0310038328170776, -1.049619197845459, -1.0681923627853394, -1.0896233320236206, -1.1164647340774536, -1.1507846117019653, -1.1931523084640503, -1.24183189868927, -1.292909026145935]\n",
      "----------------------------------------\n"
     ]
    },
    {
     "name": "stderr",
     "output_type": "stream",
     "text": [
      "/Users/alecjeffery/anaconda3/envs/spacetimeformer/lib/python3.8/site-packages/lightning/pytorch/trainer/setup.py:177: GPU available but not used. You can set it by doing `Trainer(accelerator='gpu')`.\n"
     ]
    },
    {
     "name": "stdout",
     "output_type": "stream",
     "text": [
      "File: DIS.csv\n",
      "Final Forecast (Last Context Window -> 10 Periods Ahead): [-0.7050370573997498, -0.7091852426528931, -0.715109646320343, -0.7221300005912781, -0.7306296825408936, -0.7415362596511841, -0.7561768293380737, -0.7760013341903687, -0.8025826811790466, -0.837451159954071]\n",
      "----------------------------------------\n"
     ]
    },
    {
     "name": "stderr",
     "output_type": "stream",
     "text": [
      "/Users/alecjeffery/anaconda3/envs/spacetimeformer/lib/python3.8/site-packages/lightning/pytorch/trainer/setup.py:177: GPU available but not used. You can set it by doing `Trainer(accelerator='gpu')`.\n"
     ]
    },
    {
     "name": "stdout",
     "output_type": "stream",
     "text": [
      "File: GE.csv\n",
      "Final Forecast (Last Context Window -> 10 Periods Ahead): [1.6960362195968628, 1.5189800262451172, 1.3711837530136108, 1.273468017578125, 1.1956249475479126, 1.1225733757019043, 1.053171992301941, 0.9888483881950378, 0.930439293384552, 0.8779781460762024]\n",
      "----------------------------------------\n"
     ]
    },
    {
     "name": "stderr",
     "output_type": "stream",
     "text": [
      "/Users/alecjeffery/anaconda3/envs/spacetimeformer/lib/python3.8/site-packages/lightning/pytorch/trainer/setup.py:177: GPU available but not used. You can set it by doing `Trainer(accelerator='gpu')`.\n"
     ]
    },
    {
     "name": "stdout",
     "output_type": "stream",
     "text": [
      "File: NFLX.csv\n",
      "Final Forecast (Last Context Window -> 10 Periods Ahead): [1.4733232259750366, 1.3156174421310425, 1.2188233137130737, 1.172338604927063, 1.1332284212112427, 1.0905978679656982, 1.0454779863357544, 1.0004627704620361, 0.9574920535087585, 0.9177485704421997]\n",
      "----------------------------------------\n"
     ]
    },
    {
     "name": "stderr",
     "output_type": "stream",
     "text": [
      "/Users/alecjeffery/anaconda3/envs/spacetimeformer/lib/python3.8/site-packages/lightning/pytorch/trainer/setup.py:177: GPU available but not used. You can set it by doing `Trainer(accelerator='gpu')`.\n"
     ]
    },
    {
     "name": "stdout",
     "output_type": "stream",
     "text": [
      "File: CVS.csv\n",
      "Final Forecast (Last Context Window -> 10 Periods Ahead): [1.5167888402938843, 1.379128336906433, 1.2742640972137451, 1.2206552028656006, 1.1833336353302002, 1.1460533142089844, 1.1069544553756714, 1.0674318075180054, 1.028944492340088, 0.9924058318138123]\n",
      "----------------------------------------\n"
     ]
    },
    {
     "name": "stderr",
     "output_type": "stream",
     "text": [
      "/Users/alecjeffery/anaconda3/envs/spacetimeformer/lib/python3.8/site-packages/lightning/pytorch/trainer/setup.py:177: GPU available but not used. You can set it by doing `Trainer(accelerator='gpu')`.\n"
     ]
    },
    {
     "name": "stdout",
     "output_type": "stream",
     "text": [
      "File: JPM.csv\n",
      "Final Forecast (Last Context Window -> 10 Periods Ahead): [1.3245857954025269, 1.1437848806381226, 1.025338053703308, 0.9604935050010681, 0.9117724299430847, 0.8660728335380554, 0.8212743401527405, 0.7779850363731384, 0.7369226813316345, 0.6984087228775024]\n",
      "----------------------------------------\n"
     ]
    },
    {
     "name": "stderr",
     "output_type": "stream",
     "text": [
      "/Users/alecjeffery/anaconda3/envs/spacetimeformer/lib/python3.8/site-packages/lightning/pytorch/trainer/setup.py:177: GPU available but not used. You can set it by doing `Trainer(accelerator='gpu')`.\n"
     ]
    },
    {
     "name": "stdout",
     "output_type": "stream",
     "text": [
      "File: ABT.csv\n",
      "Final Forecast (Last Context Window -> 10 Periods Ahead): [0.9435129761695862, 0.7718843221664429, 0.6710271239280701, 0.6140233874320984, 0.5703596472740173, 0.5336682796478271, 0.5020236968994141, 0.47438937425613403, 0.4499211013317108, 0.4278033375740051]\n",
      "----------------------------------------\n"
     ]
    },
    {
     "name": "stderr",
     "output_type": "stream",
     "text": [
      "/Users/alecjeffery/anaconda3/envs/spacetimeformer/lib/python3.8/site-packages/lightning/pytorch/trainer/setup.py:177: GPU available but not used. You can set it by doing `Trainer(accelerator='gpu')`.\n"
     ]
    },
    {
     "name": "stdout",
     "output_type": "stream",
     "text": [
      "File: TSLA.csv\n",
      "Final Forecast (Last Context Window -> 10 Periods Ahead): [1.6457616090774536, 1.484675645828247, 1.3330724239349365, 1.250260829925537, 1.205135703086853, 1.1693425178527832, 1.13451087474823, 1.0994256734848022, 1.064638614654541, 1.030901551246643]\n",
      "----------------------------------------\n"
     ]
    },
    {
     "name": "stderr",
     "output_type": "stream",
     "text": [
      "/Users/alecjeffery/anaconda3/envs/spacetimeformer/lib/python3.8/site-packages/lightning/pytorch/trainer/setup.py:177: GPU available but not used. You can set it by doing `Trainer(accelerator='gpu')`.\n"
     ]
    },
    {
     "name": "stdout",
     "output_type": "stream",
     "text": [
      "File: COP.csv\n",
      "Final Forecast (Last Context Window -> 10 Periods Ahead): [0.1736302375793457, 0.17602714896202087, 0.17211833596229553, 0.1700323522090912, 0.1663772165775299, 0.16150230169296265, 0.15520119667053223, 0.1475059688091278, 0.13833823800086975, 0.1276131570339203]\n",
      "----------------------------------------\n"
     ]
    },
    {
     "name": "stderr",
     "output_type": "stream",
     "text": [
      "/Users/alecjeffery/anaconda3/envs/spacetimeformer/lib/python3.8/site-packages/lightning/pytorch/trainer/setup.py:177: GPU available but not used. You can set it by doing `Trainer(accelerator='gpu')`.\n"
     ]
    },
    {
     "name": "stdout",
     "output_type": "stream",
     "text": [
      "File: DHR.csv\n",
      "Final Forecast (Last Context Window -> 10 Periods Ahead): [0.9189174771308899, 0.7514501810073853, 0.6645366549491882, 0.61322420835495, 0.5730871558189392, 0.5389068126678467, 0.5091071724891663, 0.48295503854751587, 0.45980119705200195, 0.43894875049591064]\n",
      "----------------------------------------\n"
     ]
    },
    {
     "name": "stderr",
     "output_type": "stream",
     "text": [
      "/Users/alecjeffery/anaconda3/envs/spacetimeformer/lib/python3.8/site-packages/lightning/pytorch/trainer/setup.py:177: GPU available but not used. You can set it by doing `Trainer(accelerator='gpu')`.\n"
     ]
    },
    {
     "name": "stdout",
     "output_type": "stream",
     "text": [
      "File: CNC.csv\n",
      "Final Forecast (Last Context Window -> 10 Periods Ahead): [0.6673375964164734, 0.5696732997894287, 0.5049607157707214, 0.4679083228111267, 0.43988096714019775, 0.41589951515197754, 0.39389675855636597, 0.372638463973999, 0.35130059719085693, 0.32915371656417847]\n",
      "----------------------------------------\n"
     ]
    },
    {
     "name": "stderr",
     "output_type": "stream",
     "text": [
      "/Users/alecjeffery/anaconda3/envs/spacetimeformer/lib/python3.8/site-packages/lightning/pytorch/trainer/setup.py:177: GPU available but not used. You can set it by doing `Trainer(accelerator='gpu')`.\n"
     ]
    },
    {
     "name": "stdout",
     "output_type": "stream",
     "text": [
      "File: MCK.csv\n",
      "Final Forecast (Last Context Window -> 10 Periods Ahead): [0.20886120200157166, 0.19145572185516357, 0.19083914160728455, 0.19320443272590637, 0.194265216588974, 0.1937747597694397, 0.19162848591804504, 0.18781903386116028, 0.1821717619895935, 0.174319326877594]\n",
      "----------------------------------------\n"
     ]
    },
    {
     "name": "stderr",
     "output_type": "stream",
     "text": [
      "/Users/alecjeffery/anaconda3/envs/spacetimeformer/lib/python3.8/site-packages/lightning/pytorch/trainer/setup.py:177: GPU available but not used. You can set it by doing `Trainer(accelerator='gpu')`.\n"
     ]
    },
    {
     "name": "stdout",
     "output_type": "stream",
     "text": [
      "File: META.csv\n",
      "Final Forecast (Last Context Window -> 10 Periods Ahead): [0.7420791387557983, 0.6601293087005615, 0.6178670525550842, 0.5979133248329163, 0.5803142189979553, 0.5629592537879944, 0.5463080406188965, 0.5313568115234375, 0.5188270211219788, 0.509353518486023]\n",
      "----------------------------------------\n"
     ]
    },
    {
     "name": "stderr",
     "output_type": "stream",
     "text": [
      "/Users/alecjeffery/anaconda3/envs/spacetimeformer/lib/python3.8/site-packages/lightning/pytorch/trainer/setup.py:177: GPU available but not used. You can set it by doing `Trainer(accelerator='gpu')`.\n"
     ]
    },
    {
     "name": "stdout",
     "output_type": "stream",
     "text": [
      "File: COR.csv\n",
      "Final Forecast (Last Context Window -> 10 Periods Ahead): [1.117612361907959, 0.9427481293678284, 0.8362318873405457, 0.7745901942253113, 0.7251495718955994, 0.6812962889671326, 0.6418612599372864, 0.6064872145652771, 0.5747798681259155, 0.5461525321006775]\n",
      "----------------------------------------\n"
     ]
    },
    {
     "name": "stderr",
     "output_type": "stream",
     "text": [
      "/Users/alecjeffery/anaconda3/envs/spacetimeformer/lib/python3.8/site-packages/lightning/pytorch/trainer/setup.py:177: GPU available but not used. You can set it by doing `Trainer(accelerator='gpu')`.\n"
     ]
    },
    {
     "name": "stdout",
     "output_type": "stream",
     "text": [
      "File: GOOG.csv\n",
      "Final Forecast (Last Context Window -> 10 Periods Ahead): [0.9155290722846985, 0.8999084830284119, 0.907450258731842, 0.9327793717384338, 0.9452231526374817, 0.9418526887893677, 0.9283049702644348, 0.9100039005279541, 0.8911029696464539, 0.8754367232322693]\n",
      "----------------------------------------\n"
     ]
    },
    {
     "name": "stderr",
     "output_type": "stream",
     "text": [
      "/Users/alecjeffery/anaconda3/envs/spacetimeformer/lib/python3.8/site-packages/lightning/pytorch/trainer/setup.py:177: GPU available but not used. You can set it by doing `Trainer(accelerator='gpu')`.\n"
     ]
    },
    {
     "name": "stdout",
     "output_type": "stream",
     "text": [
      "File: PFE.csv\n",
      "Final Forecast (Last Context Window -> 10 Periods Ahead): [-1.1394230127334595, -1.172782301902771, -1.2037580013275146, -1.240162968635559, -1.281988263130188, -1.3311446905136108, -1.3855730295181274, -1.439829707145691, -1.4871318340301514, -1.5232731103897095]\n",
      "----------------------------------------\n"
     ]
    },
    {
     "name": "stderr",
     "output_type": "stream",
     "text": [
      "/Users/alecjeffery/anaconda3/envs/spacetimeformer/lib/python3.8/site-packages/lightning/pytorch/trainer/setup.py:177: GPU available but not used. You can set it by doing `Trainer(accelerator='gpu')`.\n"
     ]
    },
    {
     "name": "stdout",
     "output_type": "stream",
     "text": [
      "File: AVGO.csv\n",
      "Final Forecast (Last Context Window -> 10 Periods Ahead): [0.01799372211098671, -0.1285121887922287, -0.1697656214237213, -0.2093503177165985, -0.24408137798309326, -0.26887813210487366, -0.291959673166275, -0.3170124590396881, -0.3452427387237549, -0.3776245713233948]\n",
      "----------------------------------------\n"
     ]
    },
    {
     "name": "stderr",
     "output_type": "stream",
     "text": [
      "/Users/alecjeffery/anaconda3/envs/spacetimeformer/lib/python3.8/site-packages/lightning/pytorch/trainer/setup.py:177: GPU available but not used. You can set it by doing `Trainer(accelerator='gpu')`.\n"
     ]
    },
    {
     "name": "stdout",
     "output_type": "stream",
     "text": [
      "File: VZ.csv\n",
      "Final Forecast (Last Context Window -> 10 Periods Ahead): [1.3207381963729858, 1.1649208068847656, 1.0706380605697632, 1.0240986347198486, 0.9886199831962585, 0.952924907207489, 0.9158973097801208, 0.8786517381668091, 0.8423979878425598, 0.8079652190208435]\n",
      "----------------------------------------\n"
     ]
    },
    {
     "name": "stderr",
     "output_type": "stream",
     "text": [
      "/Users/alecjeffery/anaconda3/envs/spacetimeformer/lib/python3.8/site-packages/lightning/pytorch/trainer/setup.py:177: GPU available but not used. You can set it by doing `Trainer(accelerator='gpu')`.\n"
     ]
    },
    {
     "name": "stdout",
     "output_type": "stream",
     "text": [
      "File: QCOM.csv\n",
      "Final Forecast (Last Context Window -> 10 Periods Ahead): [-0.2894139289855957, -0.37514299154281616, -0.4203660488128662, -0.46036726236343384, -0.4983392059803009, -0.5380993485450745, -0.5818041563034058, -0.6314916014671326, -0.6891077756881714, -0.756100058555603]\n",
      "----------------------------------------\n"
     ]
    },
    {
     "name": "stderr",
     "output_type": "stream",
     "text": [
      "/Users/alecjeffery/anaconda3/envs/spacetimeformer/lib/python3.8/site-packages/lightning/pytorch/trainer/setup.py:177: GPU available but not used. You can set it by doing `Trainer(accelerator='gpu')`.\n"
     ]
    },
    {
     "name": "stdout",
     "output_type": "stream",
     "text": [
      "File: MS.csv\n",
      "Final Forecast (Last Context Window -> 10 Periods Ahead): [1.6728328466415405, 1.5517858266830444, 1.453774333000183, 1.3916771411895752, 1.3355913162231445, 1.275492787361145, 1.2135027647018433, 1.153051495552063, 1.0963035821914673, 1.044138789176941]\n",
      "----------------------------------------\n"
     ]
    },
    {
     "name": "stderr",
     "output_type": "stream",
     "text": [
      "/Users/alecjeffery/anaconda3/envs/spacetimeformer/lib/python3.8/site-packages/lightning/pytorch/trainer/setup.py:177: GPU available but not used. You can set it by doing `Trainer(accelerator='gpu')`.\n"
     ]
    },
    {
     "name": "stdout",
     "output_type": "stream",
     "text": [
      "File: SNX.csv\n",
      "Final Forecast (Last Context Window -> 10 Periods Ahead): [1.6635054349899292, 1.4926507472991943, 1.335264801979065, 1.2484124898910522, 1.1978617906570435, 1.1561561822891235, 1.1158283948898315, 1.0760095119476318, 1.0372837781906128, 1.0002766847610474]\n",
      "----------------------------------------\n"
     ]
    },
    {
     "name": "stderr",
     "output_type": "stream",
     "text": [
      "/Users/alecjeffery/anaconda3/envs/spacetimeformer/lib/python3.8/site-packages/lightning/pytorch/trainer/setup.py:177: GPU available but not used. You can set it by doing `Trainer(accelerator='gpu')`.\n"
     ]
    },
    {
     "name": "stdout",
     "output_type": "stream",
     "text": [
      "File: DAL.csv\n",
      "Final Forecast (Last Context Window -> 10 Periods Ahead): [2.4194843769073486, 2.16968035697937, 1.9306846857070923, 1.7503293752670288, 1.6408618688583374, 1.5740621089935303, 1.5239713191986084, 1.4796972274780273, 1.4384539127349854, 1.4003255367279053]\n",
      "----------------------------------------\n"
     ]
    },
    {
     "name": "stderr",
     "output_type": "stream",
     "text": [
      "/Users/alecjeffery/anaconda3/envs/spacetimeformer/lib/python3.8/site-packages/lightning/pytorch/trainer/setup.py:177: GPU available but not used. You can set it by doing `Trainer(accelerator='gpu')`.\n"
     ]
    },
    {
     "name": "stdout",
     "output_type": "stream",
     "text": [
      "File: K.csv\n",
      "Final Forecast (Last Context Window -> 10 Periods Ahead): [2.0922844409942627, 1.9102016687393188, 1.3354716300964355, 0.560062050819397, 0.033290795981884, -0.2821624279022217, -0.4907321333885193, -0.6630048751831055, -0.8332094550132751, -1.0099310874938965]\n",
      "----------------------------------------\n"
     ]
    },
    {
     "name": "stderr",
     "output_type": "stream",
     "text": [
      "/Users/alecjeffery/anaconda3/envs/spacetimeformer/lib/python3.8/site-packages/lightning/pytorch/trainer/setup.py:177: GPU available but not used. You can set it by doing `Trainer(accelerator='gpu')`.\n"
     ]
    },
    {
     "name": "stdout",
     "output_type": "stream",
     "text": [
      "File: BRK B.csv\n",
      "Final Forecast (Last Context Window -> 10 Periods Ahead): [0.35873669385910034, 0.297224223613739, 0.26795539259910583, 0.24906182289123535, 0.232772558927536, 0.21729308366775513, 0.20137107372283936, 0.18385890126228333, 0.1632656753063202, 0.13675734400749207]\n",
      "----------------------------------------\n"
     ]
    },
    {
     "name": "stderr",
     "output_type": "stream",
     "text": [
      "/Users/alecjeffery/anaconda3/envs/spacetimeformer/lib/python3.8/site-packages/lightning/pytorch/trainer/setup.py:177: GPU available but not used. You can set it by doing `Trainer(accelerator='gpu')`.\n"
     ]
    },
    {
     "name": "stdout",
     "output_type": "stream",
     "text": [
      "File: UNH.csv\n",
      "Final Forecast (Last Context Window -> 10 Periods Ahead): [1.940195918083191, 1.7666465044021606, 1.5979703664779663, 1.494297742843628, 1.439684271812439, 1.4025325775146484, 1.3688021898269653, 1.3350787162780762, 1.301395297050476, 1.2686189413070679]\n",
      "----------------------------------------\n"
     ]
    },
    {
     "name": "stderr",
     "output_type": "stream",
     "text": [
      "/Users/alecjeffery/anaconda3/envs/spacetimeformer/lib/python3.8/site-packages/lightning/pytorch/trainer/setup.py:177: GPU available but not used. You can set it by doing `Trainer(accelerator='gpu')`.\n"
     ]
    },
    {
     "name": "stdout",
     "output_type": "stream",
     "text": [
      "File: PRU.csv\n",
      "Final Forecast (Last Context Window -> 10 Periods Ahead): [0.6819692254066467, 0.5460122227668762, 0.4727594256401062, 0.4326331317424774, 0.40324199199676514, 0.37951570749282837, 0.35924679040908813, 0.3411213159561157, 0.3242087960243225, 0.3077453374862671]\n",
      "----------------------------------------\n"
     ]
    },
    {
     "name": "stderr",
     "output_type": "stream",
     "text": [
      "/Users/alecjeffery/anaconda3/envs/spacetimeformer/lib/python3.8/site-packages/lightning/pytorch/trainer/setup.py:177: GPU available but not used. You can set it by doing `Trainer(accelerator='gpu')`.\n"
     ]
    },
    {
     "name": "stdout",
     "output_type": "stream",
     "text": [
      "File: AIG.csv\n",
      "Final Forecast (Last Context Window -> 10 Periods Ahead): [-0.6242848038673401, -0.6599777340888977, -0.6890659332275391, -0.714831531047821, -0.7404198050498962, -0.7678424715995789, -0.7993624806404114, -0.8371748328208923, -0.8832379579544067, -0.9387630820274353]\n",
      "----------------------------------------\n"
     ]
    },
    {
     "name": "stderr",
     "output_type": "stream",
     "text": [
      "/Users/alecjeffery/anaconda3/envs/spacetimeformer/lib/python3.8/site-packages/lightning/pytorch/trainer/setup.py:177: GPU available but not used. You can set it by doing `Trainer(accelerator='gpu')`.\n"
     ]
    },
    {
     "name": "stdout",
     "output_type": "stream",
     "text": [
      "File: MA.csv\n",
      "Final Forecast (Last Context Window -> 10 Periods Ahead): [1.3905370235443115, 1.3819917440414429, 1.4152072668075562, 1.4279518127441406, 1.404353380203247, 1.353124737739563, 1.2863510847091675, 1.2142630815505981, 1.1437867879867554, 1.078862190246582]\n",
      "----------------------------------------\n"
     ]
    },
    {
     "name": "stderr",
     "output_type": "stream",
     "text": [
      "/Users/alecjeffery/anaconda3/envs/spacetimeformer/lib/python3.8/site-packages/lightning/pytorch/trainer/setup.py:177: GPU available but not used. You can set it by doing `Trainer(accelerator='gpu')`.\n"
     ]
    },
    {
     "name": "stdout",
     "output_type": "stream",
     "text": [
      "File: TGT.csv\n",
      "Final Forecast (Last Context Window -> 10 Periods Ahead): [-0.48734188079833984, -0.5073421597480774, -0.5235839486122131, -0.5372188687324524, -0.5498725175857544, -0.5629672408103943, -0.5779480934143066, -0.5962690114974976, -0.6194453835487366, -0.6489631533622742]\n",
      "----------------------------------------\n"
     ]
    },
    {
     "name": "stderr",
     "output_type": "stream",
     "text": [
      "/Users/alecjeffery/anaconda3/envs/spacetimeformer/lib/python3.8/site-packages/lightning/pytorch/trainer/setup.py:177: GPU available but not used. You can set it by doing `Trainer(accelerator='gpu')`.\n"
     ]
    },
    {
     "name": "stdout",
     "output_type": "stream",
     "text": [
      "File: AAPL.csv\n",
      "Final Forecast (Last Context Window -> 10 Periods Ahead): [1.0049493312835693, 1.1467124223709106, 1.2383333444595337, 1.2948312759399414, 1.311970829963684, 1.3030849695205688, 1.2743054628372192, 1.2222868204116821, 1.1149815320968628, 0.7672694325447083]\n",
      "----------------------------------------\n"
     ]
    },
    {
     "name": "stderr",
     "output_type": "stream",
     "text": [
      "/Users/alecjeffery/anaconda3/envs/spacetimeformer/lib/python3.8/site-packages/lightning/pytorch/trainer/setup.py:177: GPU available but not used. You can set it by doing `Trainer(accelerator='gpu')`.\n"
     ]
    },
    {
     "name": "stdout",
     "output_type": "stream",
     "text": [
      "File: WMT.csv\n",
      "Final Forecast (Last Context Window -> 10 Periods Ahead): [0.08230024576187134, 0.09437116235494614, 0.09765719622373581, 0.10010164231061935, 0.09873981028795242, 0.09396826475858688, 0.08357848972082138, 0.05832913517951965, -0.1059340164065361, -0.3453145921230316]\n",
      "----------------------------------------\n"
     ]
    },
    {
     "name": "stderr",
     "output_type": "stream",
     "text": [
      "/Users/alecjeffery/anaconda3/envs/spacetimeformer/lib/python3.8/site-packages/lightning/pytorch/trainer/setup.py:177: GPU available but not used. You can set it by doing `Trainer(accelerator='gpu')`.\n"
     ]
    },
    {
     "name": "stdout",
     "output_type": "stream",
     "text": [
      "File: LMT.csv\n",
      "Final Forecast (Last Context Window -> 10 Periods Ahead): [1.7882649898529053, 1.5953922271728516, 1.4423236846923828, 1.3468880653381348, 1.272337555885315, 1.201432704925537, 1.132611870765686, 1.0676566362380981, 1.0079491138458252, 0.9540157914161682]\n",
      "----------------------------------------\n"
     ]
    },
    {
     "name": "stderr",
     "output_type": "stream",
     "text": [
      "/Users/alecjeffery/anaconda3/envs/spacetimeformer/lib/python3.8/site-packages/lightning/pytorch/trainer/setup.py:177: GPU available but not used. You can set it by doing `Trainer(accelerator='gpu')`.\n"
     ]
    },
    {
     "name": "stdout",
     "output_type": "stream",
     "text": [
      "File: BMY.csv\n",
      "Final Forecast (Last Context Window -> 10 Periods Ahead): [-0.9815906882286072, -1.0165921449661255, -1.0424869060516357, -1.0678237676620483, -1.0958951711654663, -1.1291676759719849, -1.168993353843689, -1.2150307893753052, -1.264951229095459, -1.3149429559707642]\n",
      "----------------------------------------\n"
     ]
    },
    {
     "name": "stderr",
     "output_type": "stream",
     "text": [
      "/Users/alecjeffery/anaconda3/envs/spacetimeformer/lib/python3.8/site-packages/lightning/pytorch/trainer/setup.py:177: GPU available but not used. You can set it by doing `Trainer(accelerator='gpu')`.\n"
     ]
    },
    {
     "name": "stdout",
     "output_type": "stream",
     "text": [
      "File: AA.csv\n",
      "Final Forecast (Last Context Window -> 10 Periods Ahead): [-0.3033163547515869, -0.3476244807243347, -0.4185602366924286, -0.4913135766983032, -0.5535973310470581, -0.6186718344688416, -0.6889090538024902, -0.765825092792511, -0.8499334454536438, -0.9400919079780579]\n",
      "----------------------------------------\n"
     ]
    },
    {
     "name": "stderr",
     "output_type": "stream",
     "text": [
      "/Users/alecjeffery/anaconda3/envs/spacetimeformer/lib/python3.8/site-packages/lightning/pytorch/trainer/setup.py:177: GPU available but not used. You can set it by doing `Trainer(accelerator='gpu')`.\n"
     ]
    },
    {
     "name": "stdout",
     "output_type": "stream",
     "text": [
      "File: JNJ.csv\n",
      "Final Forecast (Last Context Window -> 10 Periods Ahead): [1.8040640354156494, 1.7339051961898804, 1.6670291423797607, 1.6161119937896729, 1.5644217729568481, 1.5073573589324951, 1.4492584466934204, 1.3948729038238525, 1.3470932245254517, 1.3071787357330322]\n",
      "----------------------------------------\n"
     ]
    },
    {
     "name": "stderr",
     "output_type": "stream",
     "text": [
      "/Users/alecjeffery/anaconda3/envs/spacetimeformer/lib/python3.8/site-packages/lightning/pytorch/trainer/setup.py:177: GPU available but not used. You can set it by doing `Trainer(accelerator='gpu')`.\n"
     ]
    },
    {
     "name": "stdout",
     "output_type": "stream",
     "text": [
      "File: CIG.csv\n",
      "Final Forecast (Last Context Window -> 10 Periods Ahead): [0.34457099437713623, 0.3873754143714905, 0.40325793623924255, 0.4283469319343567, 0.4645920395851135, 0.27904438972473145, -0.5666986703872681, -0.7388328313827515, -0.8941324353218079, -1.0054038763046265]\n",
      "----------------------------------------\n"
     ]
    },
    {
     "name": "stderr",
     "output_type": "stream",
     "text": [
      "/Users/alecjeffery/anaconda3/envs/spacetimeformer/lib/python3.8/site-packages/lightning/pytorch/trainer/setup.py:177: GPU available but not used. You can set it by doing `Trainer(accelerator='gpu')`.\n"
     ]
    },
    {
     "name": "stdout",
     "output_type": "stream",
     "text": [
      "File: CRM.csv\n",
      "Final Forecast (Last Context Window -> 10 Periods Ahead): [-0.6281646490097046, -0.6661692261695862, -0.693598747253418, -0.7164807915687561, -0.7379088997840881, -0.760023832321167, -0.78492671251297, -0.81472247838974, -0.8514829277992249, -0.8969094157218933]\n",
      "----------------------------------------\n"
     ]
    },
    {
     "name": "stderr",
     "output_type": "stream",
     "text": [
      "/Users/alecjeffery/anaconda3/envs/spacetimeformer/lib/python3.8/site-packages/lightning/pytorch/trainer/setup.py:177: GPU available but not used. You can set it by doing `Trainer(accelerator='gpu')`.\n"
     ]
    },
    {
     "name": "stdout",
     "output_type": "stream",
     "text": [
      "File: PGR.csv\n",
      "Final Forecast (Last Context Window -> 10 Periods Ahead): [0.7161718010902405, 0.7867752313613892, 0.8994505405426025, 1.0273929834365845, 1.129670262336731, 1.201346516609192, 1.2555010318756104, 1.3026262521743774, 0.6899727582931519, 0.11066900938749313]\n",
      "----------------------------------------\n"
     ]
    }
   ],
   "source": [
    "import os\n",
    "import pandas as pd\n",
    "import torch\n",
    "from pytorch_forecasting.data import TimeSeriesDataSet\n",
    "\n",
    "# Define the directory holding OOS data\n",
    "oos_data_folder = \"/Users/alecjeffery/Documents/Playgrounds/Python/spacetimeformer_stocks/spacetimeformer/data/oos/\"  # Update with the actual path to your OOS directory\n",
    "\n",
    "# Load all CSV files in the OOS directory\n",
    "oos_files = [os.path.join(oos_data_folder, f) for f in os.listdir(oos_data_folder) if f.endswith('.csv')]\n",
    "\n",
    "# Process each file\n",
    "for file_path in oos_files:\n",
    "    # Load OOS data\n",
    "    oos_df = pd.read_csv(file_path, index_col=0)\n",
    "    oos_df[\"time_idx\"] = range(len(oos_df))  # Ensure `time_idx` is correctly set\n",
    "    oos_df[\"group\"] = os.path.basename(file_path).split('.')[0]  # Use filename as group ID\n",
    "    \n",
    "    # Assuming the target column is the second column in the dataset\n",
    "    oos_df[\"target\"] = oos_df.iloc[:, 4]\n",
    "    \n",
    "    # Prepare TimeSeriesDataSet for OOS data\n",
    "    oos_ts_dataset = TimeSeriesDataSet(\n",
    "        oos_df,\n",
    "        time_idx=\"time_idx\",\n",
    "        target=\"target\",\n",
    "        group_ids=[\"group\"],\n",
    "        max_encoder_length=30,  # Context window (your encoder length)\n",
    "        max_prediction_length=10,  # Forecast window\n",
    "        static_categoricals=[\"group\"],\n",
    "        time_varying_known_reals=[\"time_idx\"],\n",
    "        time_varying_unknown_reals=[\"target\"],\n",
    "        target_normalizer=None,\n",
    "    )\n",
    "    \n",
    "    # Create a DataLoader\n",
    "    oos_dataloader = oos_ts_dataset.to_dataloader(\n",
    "        train=False, batch_size=64, shuffle=False, num_workers=4, persistent_workers=True\n",
    "    )\n",
    "    \n",
    "    # Make predictions\n",
    "    raw_predictions = tft.predict(\n",
    "        oos_dataloader,\n",
    "        mode=\"raw\",\n",
    "        return_x=False,  # We don't need the input data here\n",
    "        trainer_kwargs={\"accelerator\": \"cpu\", \"devices\": 1},\n",
    "    )\n",
    "    \n",
    "    last_batch_predictions = raw_predictions.prediction[-1]  # The last batch\n",
    "\n",
    "    # Extract the predictions for the last context window\n",
    "    final_forecast = last_batch_predictions[-10:]  # All ten forecast periods for the final sample\n",
    "    print(f\"File: {os.path.basename(file_path)}\")\n",
    "    print(f\"Final Forecast (Last Context Window -> 10 Periods Ahead): {final_forecast.squeeze().tolist()}\")\n",
    "    print(\"-\" * 40)\n",
    "\n"
   ]
  },
  {
   "cell_type": "code",
   "execution_count": 8,
   "metadata": {},
   "outputs": [
    {
     "name": "stderr",
     "output_type": "stream",
     "text": [
      "/Users/alecjeffery/anaconda3/envs/spacetimeformer/lib/python3.8/site-packages/lightning/pytorch/trainer/setup.py:177: GPU available but not used. You can set it by doing `Trainer(accelerator='gpu')`.\n",
      "/Users/alecjeffery/anaconda3/envs/spacetimeformer/lib/python3.8/site-packages/lightning/pytorch/trainer/setup.py:177: GPU available but not used. You can set it by doing `Trainer(accelerator='gpu')`.\n",
      "/Users/alecjeffery/anaconda3/envs/spacetimeformer/lib/python3.8/site-packages/lightning/pytorch/trainer/setup.py:177: GPU available but not used. You can set it by doing `Trainer(accelerator='gpu')`.\n",
      "/Users/alecjeffery/anaconda3/envs/spacetimeformer/lib/python3.8/site-packages/lightning/pytorch/trainer/setup.py:177: GPU available but not used. You can set it by doing `Trainer(accelerator='gpu')`.\n",
      "/Users/alecjeffery/anaconda3/envs/spacetimeformer/lib/python3.8/site-packages/lightning/pytorch/trainer/setup.py:177: GPU available but not used. You can set it by doing `Trainer(accelerator='gpu')`.\n",
      "/Users/alecjeffery/anaconda3/envs/spacetimeformer/lib/python3.8/site-packages/lightning/pytorch/trainer/call.py:54: Detected KeyboardInterrupt, attempting graceful shutdown...\n",
      "/Users/alecjeffery/anaconda3/envs/spacetimeformer/lib/python3.8/site-packages/lightning/pytorch/trainer/setup.py:177: GPU available but not used. You can set it by doing `Trainer(accelerator='gpu')`.\n",
      "/Users/alecjeffery/anaconda3/envs/spacetimeformer/lib/python3.8/site-packages/lightning/pytorch/trainer/setup.py:177: GPU available but not used. You can set it by doing `Trainer(accelerator='gpu')`.\n",
      "/Users/alecjeffery/anaconda3/envs/spacetimeformer/lib/python3.8/site-packages/lightning/pytorch/trainer/setup.py:177: GPU available but not used. You can set it by doing `Trainer(accelerator='gpu')`.\n",
      "/Users/alecjeffery/anaconda3/envs/spacetimeformer/lib/python3.8/site-packages/lightning/pytorch/trainer/setup.py:177: GPU available but not used. You can set it by doing `Trainer(accelerator='gpu')`.\n",
      "/Users/alecjeffery/anaconda3/envs/spacetimeformer/lib/python3.8/site-packages/lightning/pytorch/trainer/setup.py:177: GPU available but not used. You can set it by doing `Trainer(accelerator='gpu')`.\n",
      "/Users/alecjeffery/anaconda3/envs/spacetimeformer/lib/python3.8/site-packages/lightning/pytorch/trainer/setup.py:177: GPU available but not used. You can set it by doing `Trainer(accelerator='gpu')`.\n",
      "/Users/alecjeffery/anaconda3/envs/spacetimeformer/lib/python3.8/site-packages/lightning/pytorch/trainer/setup.py:177: GPU available but not used. You can set it by doing `Trainer(accelerator='gpu')`.\n",
      "/Users/alecjeffery/anaconda3/envs/spacetimeformer/lib/python3.8/site-packages/lightning/pytorch/trainer/setup.py:177: GPU available but not used. You can set it by doing `Trainer(accelerator='gpu')`.\n",
      "/Users/alecjeffery/anaconda3/envs/spacetimeformer/lib/python3.8/site-packages/lightning/pytorch/trainer/setup.py:177: GPU available but not used. You can set it by doing `Trainer(accelerator='gpu')`.\n",
      "/Users/alecjeffery/anaconda3/envs/spacetimeformer/lib/python3.8/site-packages/lightning/pytorch/trainer/setup.py:177: GPU available but not used. You can set it by doing `Trainer(accelerator='gpu')`.\n",
      "/Users/alecjeffery/anaconda3/envs/spacetimeformer/lib/python3.8/site-packages/lightning/pytorch/trainer/setup.py:177: GPU available but not used. You can set it by doing `Trainer(accelerator='gpu')`.\n",
      "/Users/alecjeffery/anaconda3/envs/spacetimeformer/lib/python3.8/site-packages/lightning/pytorch/trainer/call.py:54: Detected KeyboardInterrupt, attempting graceful shutdown...\n"
     ]
    },
    {
     "ename": "AttributeError",
     "evalue": "'list' object has no attribute 'prediction'",
     "output_type": "error",
     "traceback": [
      "\u001b[0;31m---------------------------------------------------------------------------\u001b[0m",
      "\u001b[0;31mAttributeError\u001b[0m                            Traceback (most recent call last)",
      "Cell \u001b[0;32mIn[8], line 52\u001b[0m\n\u001b[1;32m     44\u001b[0m raw_predictions \u001b[38;5;241m=\u001b[39m tft\u001b[38;5;241m.\u001b[39mpredict(\n\u001b[1;32m     45\u001b[0m     oos_dataloader,\n\u001b[1;32m     46\u001b[0m     mode\u001b[38;5;241m=\u001b[39m\u001b[38;5;124m\"\u001b[39m\u001b[38;5;124mraw\u001b[39m\u001b[38;5;124m\"\u001b[39m,\n\u001b[1;32m     47\u001b[0m     return_x\u001b[38;5;241m=\u001b[39m\u001b[38;5;28;01mFalse\u001b[39;00m,  \u001b[38;5;66;03m# We don't need the input data here\u001b[39;00m\n\u001b[1;32m     48\u001b[0m     trainer_kwargs\u001b[38;5;241m=\u001b[39m{\u001b[38;5;124m\"\u001b[39m\u001b[38;5;124maccelerator\u001b[39m\u001b[38;5;124m\"\u001b[39m: \u001b[38;5;124m\"\u001b[39m\u001b[38;5;124mcpu\u001b[39m\u001b[38;5;124m\"\u001b[39m, \u001b[38;5;124m\"\u001b[39m\u001b[38;5;124mdevices\u001b[39m\u001b[38;5;124m\"\u001b[39m: \u001b[38;5;241m1\u001b[39m},\n\u001b[1;32m     49\u001b[0m )\n\u001b[1;32m     51\u001b[0m \u001b[38;5;66;03m# Extract the last predictions for this file\u001b[39;00m\n\u001b[0;32m---> 52\u001b[0m last_predictions \u001b[38;5;241m=\u001b[39m \u001b[43mraw_predictions\u001b[49m\u001b[38;5;241;43m.\u001b[39;49m\u001b[43mprediction\u001b[49m[:, \u001b[38;5;241m-\u001b[39m\u001b[38;5;241m1\u001b[39m, \u001b[38;5;241m0\u001b[39m]  \u001b[38;5;66;03m# Extract last time step for each sample\u001b[39;00m\n\u001b[1;32m     54\u001b[0m \u001b[38;5;66;03m# Store results\u001b[39;00m\n\u001b[1;32m     55\u001b[0m oos_predictions_results\u001b[38;5;241m.\u001b[39mappend({\n\u001b[1;32m     56\u001b[0m     \u001b[38;5;124m\"\u001b[39m\u001b[38;5;124mfile\u001b[39m\u001b[38;5;124m\"\u001b[39m: os\u001b[38;5;241m.\u001b[39mpath\u001b[38;5;241m.\u001b[39mbasename(file_path),\n\u001b[1;32m     57\u001b[0m     \u001b[38;5;124m\"\u001b[39m\u001b[38;5;124mlast_predictions\u001b[39m\u001b[38;5;124m\"\u001b[39m: last_predictions\u001b[38;5;241m.\u001b[39mtolist()  \u001b[38;5;66;03m# Convert tensor to list for better readability\u001b[39;00m\n\u001b[1;32m     58\u001b[0m })\n",
      "\u001b[0;31mAttributeError\u001b[0m: 'list' object has no attribute 'prediction'"
     ]
    }
   ],
   "source": [
    "import os\n",
    "import pandas as pd\n",
    "import torch\n",
    "from pytorch_forecasting.data import TimeSeriesDataSet\n",
    "\n",
    "# Define the directory holding OOS data\n",
    "oos_data_folder = \"/Users/alecjeffery/Documents/Playgrounds/Python/spacetimeformer_stocks/spacetimeformer/data/oos/\"  # Update with the actual path to your OOS directory\n",
    "# Load all CSV files in the OOS directory\n",
    "oos_files = [os.path.join(oos_data_folder, f) for f in os.listdir(oos_data_folder) if f.endswith('.csv')]\n",
    "\n",
    "# Initialize a list to store results\n",
    "oos_predictions_results = []\n",
    "\n",
    "# Process each file\n",
    "for file_path in oos_files:\n",
    "    # Load OOS data\n",
    "    oos_df = pd.read_csv(file_path, index_col=0)\n",
    "    oos_df[\"time_idx\"] = range(len(oos_df))  # Ensure `time_idx` is correctly set\n",
    "    oos_df[\"group\"] = os.path.basename(file_path).split('.')[0]  # Use filename as group ID\n",
    "    \n",
    "    # Assuming the target column is the second column in the dataset\n",
    "    oos_df[\"target\"] = oos_df.iloc[:, 4]\n",
    "    \n",
    "    # Prepare TimeSeriesDataSet for OOS data\n",
    "    oos_ts_dataset = TimeSeriesDataSet(\n",
    "        oos_df,\n",
    "        time_idx=\"time_idx\",\n",
    "        target=\"target\",\n",
    "        group_ids=[\"group\"],\n",
    "        max_encoder_length=context_length,  # Use the same context length as in training\n",
    "        max_prediction_length=forecast_length,  # Use the same forecast length as in training\n",
    "        static_categoricals=[\"group\"],\n",
    "        time_varying_known_reals=[\"time_idx\"],\n",
    "        time_varying_unknown_reals=[\"target\"],\n",
    "        target_normalizer=None,\n",
    "    )\n",
    "    \n",
    "    # Create a DataLoader\n",
    "    oos_dataloader = oos_ts_dataset.to_dataloader(\n",
    "        train=False, batch_size=64, shuffle=False, num_workers=4, persistent_workers=True\n",
    "    )\n",
    "    \n",
    "    # Make predictions\n",
    "    raw_predictions = tft.predict(\n",
    "        oos_dataloader,\n",
    "        mode=\"raw\",\n",
    "        return_x=False,  # We don't need the input data here\n",
    "        trainer_kwargs={\"accelerator\": \"cpu\", \"devices\": 1},\n",
    "    )\n",
    "    \n",
    "    # Extract the last predictions for this file\n",
    "    last_predictions = raw_predictions.prediction[:, -1, 0]  # Extract last time step for each sample\n",
    "    \n",
    "    # Store results\n",
    "    oos_predictions_results.append({\n",
    "        \"file\": os.path.basename(file_path),\n",
    "        \"last_predictions\": last_predictions.tolist()  # Convert tensor to list for better readability\n",
    "    })\n",
    "\n",
    "# Print results\n",
    "for result in oos_predictions_results:\n",
    "    print(f\"File: {result['file']}\")\n",
    "    print(f\"Last Predictions: {result['last_predictions']}\")\n",
    "    print(\"-\" * 40)\n"
   ]
  },
  {
   "cell_type": "markdown",
   "metadata": {},
   "source": []
  }
 ],
 "metadata": {
  "kernelspec": {
   "display_name": "spacetimeformer",
   "language": "python",
   "name": "python3"
  },
  "language_info": {
   "codemirror_mode": {
    "name": "ipython",
    "version": 3
   },
   "file_extension": ".py",
   "mimetype": "text/x-python",
   "name": "python",
   "nbconvert_exporter": "python",
   "pygments_lexer": "ipython3",
   "version": "3.8.18"
  }
 },
 "nbformat": 4,
 "nbformat_minor": 2
}
